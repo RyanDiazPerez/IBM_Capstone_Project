{
 "cells": [
  {
   "cell_type": "markdown",
   "metadata": {},
   "source": [
    "<h1 align=center><font size = 5>Access to Drinking Water and Mortality rate</font></h1>\n",
    "\n",
    "<h1 align=center><font size = 5>Ryan Díaz-Pérez</font></h1>"
   ]
  },
  {
   "cell_type": "markdown",
   "metadata": {},
   "source": [
    "## Introduction\n",
    "\n",
    "This work is my Capstone Project to fulfilled the final requirement for the IBM Data Science Professional Certificate. The IBM Data Science Professional Certificate consist of 9 courses covering topics such as open source tools and libraries, methodologies, Python, databases, SQL, data visualization, data analysis, and machine learning.\n",
    "\n",
    "This project will explore if there is an impact on drinking water resources and population growth by regions in the world. Sub-Saharan Africa, East Asia & Pacific, South Asia, Latin America & Caribbean, Middle East & North Africa, Europe & Central Asia, and North America."
   ]
  },
  {
   "cell_type": "markdown",
   "metadata": {},
   "source": [
    "## Table of Contents\n",
    "\n",
    "<div class=\"alert alert-block alert-info\" style=\"margin-top: 20px\">\n",
    "\n",
    "<font size = 3>\n",
    "\n",
    "1. <a href=\"#item1\">Data Exploration & Wrangling</a>   \n",
    "\n",
    "2. <a href=\"#item2\">Visualize the Data</a>\n",
    "\n",
    "3. <a href=\"#item3\">Exploratory Data Analysis</a>\n",
    "\n",
    "4. <a href=\"#item4\">Model Development</a>\n",
    "   \n",
    "5. <a href=\"#item5\">Model Training</a>\n",
    "    \n",
    "</font>\n",
    "</div>"
   ]
  },
  {
   "cell_type": "markdown",
   "metadata": {},
   "source": [
    "Before we start exploring the data, let's download all the dependencies that we will need."
   ]
  },
  {
   "cell_type": "code",
   "execution_count": 1,
   "metadata": {},
   "outputs": [],
   "source": [
    "import pandas as pd\n",
    "import matplotlib.pyplot as plt\n",
    "import numpy as np\n",
    "import seaborn as sns\n",
    "from sklearn.pipeline import Pipeline\n",
    "from sklearn.linear_model import LinearRegression\n",
    "from scipy.optimize import curve_fit\n",
    "from sklearn.preprocessing import StandardScaler,PolynomialFeatures\n",
    "from sklearn.model_selection import cross_val_score\n",
    "from sklearn.model_selection import train_test_split\n",
    "from sklearn.metrics import mean_squared_error\n",
    "from sklearn.metrics import r2_score\n",
    "from sklearn.linear_model import Ridge\n",
    "from sklearn.model_selection import GridSearchCV\n",
    "%matplotlib inline"
   ]
  },
  {
   "cell_type": "markdown",
   "metadata": {},
   "source": [
    "### 1. Data Exploration & Wrangling"
   ]
  },
  {
   "cell_type": "markdown",
   "metadata": {},
   "source": [
    "Data Frames"
   ]
  },
  {
   "cell_type": "code",
   "execution_count": 2,
   "metadata": {},
   "outputs": [],
   "source": [
    "data_1 = 'share_deaths_unsafe_water.csv'\n",
    "data_2 = 'share-of-the-population-with-access-to-improved-drinking-water.csv'\n",
    "data_3 = 'total_population.csv'\n",
    "data_4 = 'population_growth_rates.csv'\n",
    "\n",
    "death_unsafe_water_df = pd.read_csv(data_1)\n",
    "improved_water_access_df = pd.read_csv(data_2)\n",
    "total_population_df = pd.read_csv(data_3)\n",
    "population_growth_rates_df = pd.read_csv(data_4)"
   ]
  },
  {
   "cell_type": "markdown",
   "metadata": {},
   "source": [
    "I only want to look at the data for each region: Sub-Saharan Africa, East Asia & Pacific, South Asia, Latin America & Caribbean, Middle East & North Africa, Europe & Central Asia, North America"
   ]
  },
  {
   "cell_type": "code",
   "execution_count": 3,
   "metadata": {},
   "outputs": [],
   "source": [
    "regions = ['Sub-Saharan Africa', 'East Asia & Pacific', 'South Asia', 'Latin America & Caribbean', 'Middle East & North Africa', 'Europe & Central Asia', 'North America']"
   ]
  },
  {
   "cell_type": "markdown",
   "metadata": {},
   "source": [
    "## 1.1 World population by region, 1960-2019"
   ]
  },
  {
   "cell_type": "code",
   "execution_count": 4,
   "metadata": {},
   "outputs": [
    {
     "name": "stderr",
     "output_type": "stream",
     "text": [
      "/home/jupyterlab/conda/envs/python/lib/python3.6/site-packages/pandas/core/frame.py:4117: SettingWithCopyWarning: \n",
      "A value is trying to be set on a copy of a slice from a DataFrame\n",
      "\n",
      "See the caveats in the documentation: http://pandas.pydata.org/pandas-docs/stable/user_guide/indexing.html#returning-a-view-versus-a-copy\n",
      "  errors=errors,\n"
     ]
    },
    {
     "data": {
      "text/html": [
       "<div>\n",
       "<style scoped>\n",
       "    .dataframe tbody tr th:only-of-type {\n",
       "        vertical-align: middle;\n",
       "    }\n",
       "\n",
       "    .dataframe tbody tr th {\n",
       "        vertical-align: top;\n",
       "    }\n",
       "\n",
       "    .dataframe thead th {\n",
       "        text-align: right;\n",
       "    }\n",
       "</style>\n",
       "<table border=\"1\" class=\"dataframe\">\n",
       "  <thead>\n",
       "    <tr style=\"text-align: right;\">\n",
       "      <th></th>\n",
       "      <th>1960</th>\n",
       "      <th>1961</th>\n",
       "      <th>1962</th>\n",
       "      <th>1963</th>\n",
       "      <th>1964</th>\n",
       "      <th>1965</th>\n",
       "      <th>1966</th>\n",
       "      <th>1967</th>\n",
       "      <th>1968</th>\n",
       "      <th>1969</th>\n",
       "      <th>...</th>\n",
       "      <th>2010</th>\n",
       "      <th>2011</th>\n",
       "      <th>2012</th>\n",
       "      <th>2013</th>\n",
       "      <th>2014</th>\n",
       "      <th>2015</th>\n",
       "      <th>2016</th>\n",
       "      <th>2017</th>\n",
       "      <th>2018</th>\n",
       "      <th>2019</th>\n",
       "    </tr>\n",
       "    <tr>\n",
       "      <th>Country Name</th>\n",
       "      <th></th>\n",
       "      <th></th>\n",
       "      <th></th>\n",
       "      <th></th>\n",
       "      <th></th>\n",
       "      <th></th>\n",
       "      <th></th>\n",
       "      <th></th>\n",
       "      <th></th>\n",
       "      <th></th>\n",
       "      <th></th>\n",
       "      <th></th>\n",
       "      <th></th>\n",
       "      <th></th>\n",
       "      <th></th>\n",
       "      <th></th>\n",
       "      <th></th>\n",
       "      <th></th>\n",
       "      <th></th>\n",
       "      <th></th>\n",
       "      <th></th>\n",
       "    </tr>\n",
       "  </thead>\n",
       "  <tbody>\n",
       "    <tr>\n",
       "      <th>East Asia &amp; Pacific</th>\n",
       "      <td>1.040958e+09</td>\n",
       "      <td>1.044545e+09</td>\n",
       "      <td>1.059019e+09</td>\n",
       "      <td>1.084796e+09</td>\n",
       "      <td>1.110214e+09</td>\n",
       "      <td>1.136691e+09</td>\n",
       "      <td>1.166600e+09</td>\n",
       "      <td>1.195270e+09</td>\n",
       "      <td>1.224531e+09</td>\n",
       "      <td>1.257455e+09</td>\n",
       "      <td>...</td>\n",
       "      <td>2.206885e+09</td>\n",
       "      <td>2.221673e+09</td>\n",
       "      <td>2.236819e+09</td>\n",
       "      <td>2.252047e+09</td>\n",
       "      <td>2.267482e+09</td>\n",
       "      <td>2.282856e+09</td>\n",
       "      <td>2.298514e+09</td>\n",
       "      <td>2.314202e+09</td>\n",
       "      <td>2.328221e+09</td>\n",
       "      <td>NaN</td>\n",
       "    </tr>\n",
       "    <tr>\n",
       "      <th>Europe &amp; Central Asia</th>\n",
       "      <td>6.672536e+08</td>\n",
       "      <td>6.749630e+08</td>\n",
       "      <td>6.829217e+08</td>\n",
       "      <td>6.909466e+08</td>\n",
       "      <td>6.989011e+08</td>\n",
       "      <td>7.066261e+08</td>\n",
       "      <td>7.133953e+08</td>\n",
       "      <td>7.199799e+08</td>\n",
       "      <td>7.263074e+08</td>\n",
       "      <td>7.324941e+08</td>\n",
       "      <td>...</td>\n",
       "      <td>8.886273e+08</td>\n",
       "      <td>8.908629e+08</td>\n",
       "      <td>8.944868e+08</td>\n",
       "      <td>8.987661e+08</td>\n",
       "      <td>9.031300e+08</td>\n",
       "      <td>9.074982e+08</td>\n",
       "      <td>9.118124e+08</td>\n",
       "      <td>9.154202e+08</td>\n",
       "      <td>9.187936e+08</td>\n",
       "      <td>NaN</td>\n",
       "    </tr>\n",
       "    <tr>\n",
       "      <th>Latin America &amp; Caribbean</th>\n",
       "      <td>2.199078e+08</td>\n",
       "      <td>2.259939e+08</td>\n",
       "      <td>2.322655e+08</td>\n",
       "      <td>2.386960e+08</td>\n",
       "      <td>2.452334e+08</td>\n",
       "      <td>2.518509e+08</td>\n",
       "      <td>2.585381e+08</td>\n",
       "      <td>2.652957e+08</td>\n",
       "      <td>2.721285e+08</td>\n",
       "      <td>2.790374e+08</td>\n",
       "      <td>...</td>\n",
       "      <td>5.903033e+08</td>\n",
       "      <td>5.969662e+08</td>\n",
       "      <td>6.035862e+08</td>\n",
       "      <td>6.101519e+08</td>\n",
       "      <td>6.166196e+08</td>\n",
       "      <td>6.229860e+08</td>\n",
       "      <td>6.292401e+08</td>\n",
       "      <td>6.353725e+08</td>\n",
       "      <td>6.413575e+08</td>\n",
       "      <td>NaN</td>\n",
       "    </tr>\n",
       "    <tr>\n",
       "      <th>Middle East &amp; North Africa</th>\n",
       "      <td>1.052033e+08</td>\n",
       "      <td>1.080618e+08</td>\n",
       "      <td>1.110454e+08</td>\n",
       "      <td>1.141016e+08</td>\n",
       "      <td>1.172712e+08</td>\n",
       "      <td>1.205412e+08</td>\n",
       "      <td>1.239082e+08</td>\n",
       "      <td>1.274450e+08</td>\n",
       "      <td>1.310269e+08</td>\n",
       "      <td>1.347042e+08</td>\n",
       "      <td>...</td>\n",
       "      <td>3.859179e+08</td>\n",
       "      <td>3.939445e+08</td>\n",
       "      <td>4.019742e+08</td>\n",
       "      <td>4.099779e+08</td>\n",
       "      <td>4.179322e+08</td>\n",
       "      <td>4.258218e+08</td>\n",
       "      <td>4.335976e+08</td>\n",
       "      <td>4.412552e+08</td>\n",
       "      <td>4.489129e+08</td>\n",
       "      <td>NaN</td>\n",
       "    </tr>\n",
       "    <tr>\n",
       "      <th>North America</th>\n",
       "      <td>1.986244e+08</td>\n",
       "      <td>2.020075e+08</td>\n",
       "      <td>2.051986e+08</td>\n",
       "      <td>2.082537e+08</td>\n",
       "      <td>2.112629e+08</td>\n",
       "      <td>2.140311e+08</td>\n",
       "      <td>2.166590e+08</td>\n",
       "      <td>2.191760e+08</td>\n",
       "      <td>2.215030e+08</td>\n",
       "      <td>2.237590e+08</td>\n",
       "      <td>...</td>\n",
       "      <td>3.433961e+08</td>\n",
       "      <td>3.459839e+08</td>\n",
       "      <td>3.486532e+08</td>\n",
       "      <td>3.512057e+08</td>\n",
       "      <td>3.538890e+08</td>\n",
       "      <td>3.565108e+08</td>\n",
       "      <td>3.592454e+08</td>\n",
       "      <td>3.617513e+08</td>\n",
       "      <td>3.642903e+08</td>\n",
       "      <td>NaN</td>\n",
       "    </tr>\n",
       "  </tbody>\n",
       "</table>\n",
       "<p>5 rows × 60 columns</p>\n",
       "</div>"
      ],
      "text/plain": [
       "                                    1960          1961          1962  \\\n",
       "Country Name                                                           \n",
       "East Asia & Pacific         1.040958e+09  1.044545e+09  1.059019e+09   \n",
       "Europe & Central Asia       6.672536e+08  6.749630e+08  6.829217e+08   \n",
       "Latin America & Caribbean   2.199078e+08  2.259939e+08  2.322655e+08   \n",
       "Middle East & North Africa  1.052033e+08  1.080618e+08  1.110454e+08   \n",
       "North America               1.986244e+08  2.020075e+08  2.051986e+08   \n",
       "\n",
       "                                    1963          1964          1965  \\\n",
       "Country Name                                                           \n",
       "East Asia & Pacific         1.084796e+09  1.110214e+09  1.136691e+09   \n",
       "Europe & Central Asia       6.909466e+08  6.989011e+08  7.066261e+08   \n",
       "Latin America & Caribbean   2.386960e+08  2.452334e+08  2.518509e+08   \n",
       "Middle East & North Africa  1.141016e+08  1.172712e+08  1.205412e+08   \n",
       "North America               2.082537e+08  2.112629e+08  2.140311e+08   \n",
       "\n",
       "                                    1966          1967          1968  \\\n",
       "Country Name                                                           \n",
       "East Asia & Pacific         1.166600e+09  1.195270e+09  1.224531e+09   \n",
       "Europe & Central Asia       7.133953e+08  7.199799e+08  7.263074e+08   \n",
       "Latin America & Caribbean   2.585381e+08  2.652957e+08  2.721285e+08   \n",
       "Middle East & North Africa  1.239082e+08  1.274450e+08  1.310269e+08   \n",
       "North America               2.166590e+08  2.191760e+08  2.215030e+08   \n",
       "\n",
       "                                    1969  ...          2010          2011  \\\n",
       "Country Name                              ...                               \n",
       "East Asia & Pacific         1.257455e+09  ...  2.206885e+09  2.221673e+09   \n",
       "Europe & Central Asia       7.324941e+08  ...  8.886273e+08  8.908629e+08   \n",
       "Latin America & Caribbean   2.790374e+08  ...  5.903033e+08  5.969662e+08   \n",
       "Middle East & North Africa  1.347042e+08  ...  3.859179e+08  3.939445e+08   \n",
       "North America               2.237590e+08  ...  3.433961e+08  3.459839e+08   \n",
       "\n",
       "                                    2012          2013          2014  \\\n",
       "Country Name                                                           \n",
       "East Asia & Pacific         2.236819e+09  2.252047e+09  2.267482e+09   \n",
       "Europe & Central Asia       8.944868e+08  8.987661e+08  9.031300e+08   \n",
       "Latin America & Caribbean   6.035862e+08  6.101519e+08  6.166196e+08   \n",
       "Middle East & North Africa  4.019742e+08  4.099779e+08  4.179322e+08   \n",
       "North America               3.486532e+08  3.512057e+08  3.538890e+08   \n",
       "\n",
       "                                    2015          2016          2017  \\\n",
       "Country Name                                                           \n",
       "East Asia & Pacific         2.282856e+09  2.298514e+09  2.314202e+09   \n",
       "Europe & Central Asia       9.074982e+08  9.118124e+08  9.154202e+08   \n",
       "Latin America & Caribbean   6.229860e+08  6.292401e+08  6.353725e+08   \n",
       "Middle East & North Africa  4.258218e+08  4.335976e+08  4.412552e+08   \n",
       "North America               3.565108e+08  3.592454e+08  3.617513e+08   \n",
       "\n",
       "                                    2018  2019  \n",
       "Country Name                                    \n",
       "East Asia & Pacific         2.328221e+09   NaN  \n",
       "Europe & Central Asia       9.187936e+08   NaN  \n",
       "Latin America & Caribbean   6.413575e+08   NaN  \n",
       "Middle East & North Africa  4.489129e+08   NaN  \n",
       "North America               3.642903e+08   NaN  \n",
       "\n",
       "[5 rows x 60 columns]"
      ]
     },
     "execution_count": 4,
     "metadata": {},
     "output_type": "execute_result"
    }
   ],
   "source": [
    "total_population_df.head()\n",
    "\n",
    "# Selecting the regions that I care about\n",
    "total_population_regions_df = total_population_df[(total_population_df['Country Name'].isin(regions))]\n",
    "\n",
    "# Removing the columns that will not be use towards analysis\n",
    "total_population_regions_df.drop(['Country Code','Indicator Name','Indicator Code'], axis=1, inplace=True)\n",
    "\n",
    "# Setting the Country Name column as the index for easier plotting and analysis later\n",
    "total_population_regions_df.set_index('Country Name', inplace=True)\n",
    "\n",
    "total_population_regions_df.head()"
   ]
  },
  {
   "cell_type": "code",
   "execution_count": 5,
   "metadata": {},
   "outputs": [
    {
     "data": {
      "text/html": [
       "<div>\n",
       "<style scoped>\n",
       "    .dataframe tbody tr th:only-of-type {\n",
       "        vertical-align: middle;\n",
       "    }\n",
       "\n",
       "    .dataframe tbody tr th {\n",
       "        vertical-align: top;\n",
       "    }\n",
       "\n",
       "    .dataframe thead th {\n",
       "        text-align: right;\n",
       "    }\n",
       "</style>\n",
       "<table border=\"1\" class=\"dataframe\">\n",
       "  <thead>\n",
       "    <tr style=\"text-align: right;\">\n",
       "      <th>Country Name</th>\n",
       "      <th>East Asia &amp; Pacific</th>\n",
       "      <th>Europe &amp; Central Asia</th>\n",
       "      <th>Latin America &amp; Caribbean</th>\n",
       "      <th>Middle East &amp; North Africa</th>\n",
       "      <th>North America</th>\n",
       "      <th>South Asia</th>\n",
       "      <th>Sub-Saharan Africa</th>\n",
       "    </tr>\n",
       "  </thead>\n",
       "  <tbody>\n",
       "    <tr>\n",
       "      <th>1960</th>\n",
       "      <td>1.040958e+09</td>\n",
       "      <td>667253650.0</td>\n",
       "      <td>219907801.0</td>\n",
       "      <td>105203269.0</td>\n",
       "      <td>198624409.0</td>\n",
       "      <td>572839523.0</td>\n",
       "      <td>227233223.0</td>\n",
       "    </tr>\n",
       "    <tr>\n",
       "      <th>1961</th>\n",
       "      <td>1.044545e+09</td>\n",
       "      <td>674962981.0</td>\n",
       "      <td>225993884.0</td>\n",
       "      <td>108061812.0</td>\n",
       "      <td>202007500.0</td>\n",
       "      <td>584939726.0</td>\n",
       "      <td>232567038.0</td>\n",
       "    </tr>\n",
       "    <tr>\n",
       "      <th>1962</th>\n",
       "      <td>1.059019e+09</td>\n",
       "      <td>682921730.0</td>\n",
       "      <td>232265533.0</td>\n",
       "      <td>111045434.0</td>\n",
       "      <td>205198600.0</td>\n",
       "      <td>597494449.0</td>\n",
       "      <td>238121698.0</td>\n",
       "    </tr>\n",
       "    <tr>\n",
       "      <th>1963</th>\n",
       "      <td>1.084796e+09</td>\n",
       "      <td>690946639.0</td>\n",
       "      <td>238696012.0</td>\n",
       "      <td>114101592.0</td>\n",
       "      <td>208253700.0</td>\n",
       "      <td>610498327.0</td>\n",
       "      <td>243893426.0</td>\n",
       "    </tr>\n",
       "    <tr>\n",
       "      <th>1964</th>\n",
       "      <td>1.110214e+09</td>\n",
       "      <td>698901133.0</td>\n",
       "      <td>245233432.0</td>\n",
       "      <td>117271166.0</td>\n",
       "      <td>211262900.0</td>\n",
       "      <td>623943332.0</td>\n",
       "      <td>249873743.0</td>\n",
       "    </tr>\n",
       "  </tbody>\n",
       "</table>\n",
       "</div>"
      ],
      "text/plain": [
       "Country Name  East Asia & Pacific  Europe & Central Asia  \\\n",
       "1960                 1.040958e+09            667253650.0   \n",
       "1961                 1.044545e+09            674962981.0   \n",
       "1962                 1.059019e+09            682921730.0   \n",
       "1963                 1.084796e+09            690946639.0   \n",
       "1964                 1.110214e+09            698901133.0   \n",
       "\n",
       "Country Name  Latin America & Caribbean  Middle East & North Africa  \\\n",
       "1960                        219907801.0                 105203269.0   \n",
       "1961                        225993884.0                 108061812.0   \n",
       "1962                        232265533.0                 111045434.0   \n",
       "1963                        238696012.0                 114101592.0   \n",
       "1964                        245233432.0                 117271166.0   \n",
       "\n",
       "Country Name  North America   South Asia  Sub-Saharan Africa  \n",
       "1960            198624409.0  572839523.0         227233223.0  \n",
       "1961            202007500.0  584939726.0         232567038.0  \n",
       "1962            205198600.0  597494449.0         238121698.0  \n",
       "1963            208253700.0  610498327.0         243893426.0  \n",
       "1964            211262900.0  623943332.0         249873743.0  "
      ]
     },
     "execution_count": 5,
     "metadata": {},
     "output_type": "execute_result"
    }
   ],
   "source": [
    "# Taking the transpose for easy plotting\n",
    "total_population_regions_df = total_population_regions_df.transpose()\n",
    "\n",
    "total_population_regions_df.head()"
   ]
  },
  {
   "cell_type": "code",
   "execution_count": 6,
   "metadata": {},
   "outputs": [
    {
     "data": {
      "text/html": [
       "<div>\n",
       "<style scoped>\n",
       "    .dataframe tbody tr th:only-of-type {\n",
       "        vertical-align: middle;\n",
       "    }\n",
       "\n",
       "    .dataframe tbody tr th {\n",
       "        vertical-align: top;\n",
       "    }\n",
       "\n",
       "    .dataframe thead th {\n",
       "        text-align: right;\n",
       "    }\n",
       "</style>\n",
       "<table border=\"1\" class=\"dataframe\">\n",
       "  <thead>\n",
       "    <tr style=\"text-align: right;\">\n",
       "      <th>Year</th>\n",
       "      <th>East Asia &amp; Pacific</th>\n",
       "      <th>Europe &amp; Central Asia</th>\n",
       "      <th>Latin America &amp; Caribbean</th>\n",
       "      <th>Middle East &amp; North Africa</th>\n",
       "      <th>North America</th>\n",
       "      <th>South Asia</th>\n",
       "      <th>Sub-Saharan Africa</th>\n",
       "    </tr>\n",
       "  </thead>\n",
       "  <tbody>\n",
       "    <tr>\n",
       "      <th>1960</th>\n",
       "      <td>1.040958e+09</td>\n",
       "      <td>667253650.0</td>\n",
       "      <td>219907801.0</td>\n",
       "      <td>105203269.0</td>\n",
       "      <td>198624409.0</td>\n",
       "      <td>572839523.0</td>\n",
       "      <td>227233223.0</td>\n",
       "    </tr>\n",
       "    <tr>\n",
       "      <th>1961</th>\n",
       "      <td>1.044545e+09</td>\n",
       "      <td>674962981.0</td>\n",
       "      <td>225993884.0</td>\n",
       "      <td>108061812.0</td>\n",
       "      <td>202007500.0</td>\n",
       "      <td>584939726.0</td>\n",
       "      <td>232567038.0</td>\n",
       "    </tr>\n",
       "    <tr>\n",
       "      <th>1962</th>\n",
       "      <td>1.059019e+09</td>\n",
       "      <td>682921730.0</td>\n",
       "      <td>232265533.0</td>\n",
       "      <td>111045434.0</td>\n",
       "      <td>205198600.0</td>\n",
       "      <td>597494449.0</td>\n",
       "      <td>238121698.0</td>\n",
       "    </tr>\n",
       "    <tr>\n",
       "      <th>1963</th>\n",
       "      <td>1.084796e+09</td>\n",
       "      <td>690946639.0</td>\n",
       "      <td>238696012.0</td>\n",
       "      <td>114101592.0</td>\n",
       "      <td>208253700.0</td>\n",
       "      <td>610498327.0</td>\n",
       "      <td>243893426.0</td>\n",
       "    </tr>\n",
       "    <tr>\n",
       "      <th>1964</th>\n",
       "      <td>1.110214e+09</td>\n",
       "      <td>698901133.0</td>\n",
       "      <td>245233432.0</td>\n",
       "      <td>117271166.0</td>\n",
       "      <td>211262900.0</td>\n",
       "      <td>623943332.0</td>\n",
       "      <td>249873743.0</td>\n",
       "    </tr>\n",
       "  </tbody>\n",
       "</table>\n",
       "</div>"
      ],
      "text/plain": [
       "Year  East Asia & Pacific  Europe & Central Asia  Latin America & Caribbean  \\\n",
       "1960         1.040958e+09            667253650.0                219907801.0   \n",
       "1961         1.044545e+09            674962981.0                225993884.0   \n",
       "1962         1.059019e+09            682921730.0                232265533.0   \n",
       "1963         1.084796e+09            690946639.0                238696012.0   \n",
       "1964         1.110214e+09            698901133.0                245233432.0   \n",
       "\n",
       "Year  Middle East & North Africa  North America   South Asia  \\\n",
       "1960                 105203269.0    198624409.0  572839523.0   \n",
       "1961                 108061812.0    202007500.0  584939726.0   \n",
       "1962                 111045434.0    205198600.0  597494449.0   \n",
       "1963                 114101592.0    208253700.0  610498327.0   \n",
       "1964                 117271166.0    211262900.0  623943332.0   \n",
       "\n",
       "Year  Sub-Saharan Africa  \n",
       "1960         227233223.0  \n",
       "1961         232567038.0  \n",
       "1962         238121698.0  \n",
       "1963         243893426.0  \n",
       "1964         249873743.0  "
      ]
     },
     "execution_count": 6,
     "metadata": {},
     "output_type": "execute_result"
    }
   ],
   "source": [
    "# Changing the title of the index\n",
    "total_population_regions_df.rename_axis(columns={'Country Name': 'Year'}, inplace =True)\n",
    "\n",
    "total_population_regions_df.head()"
   ]
  },
  {
   "cell_type": "markdown",
   "metadata": {},
   "source": [
    "I only care the 1990-2015 time period"
   ]
  },
  {
   "cell_type": "code",
   "execution_count": 7,
   "metadata": {},
   "outputs": [
    {
     "data": {
      "text/html": [
       "<div>\n",
       "<style scoped>\n",
       "    .dataframe tbody tr th:only-of-type {\n",
       "        vertical-align: middle;\n",
       "    }\n",
       "\n",
       "    .dataframe tbody tr th {\n",
       "        vertical-align: top;\n",
       "    }\n",
       "\n",
       "    .dataframe thead th {\n",
       "        text-align: right;\n",
       "    }\n",
       "</style>\n",
       "<table border=\"1\" class=\"dataframe\">\n",
       "  <thead>\n",
       "    <tr style=\"text-align: right;\">\n",
       "      <th>Year</th>\n",
       "      <th>East Asia &amp; Pacific</th>\n",
       "      <th>Europe &amp; Central Asia</th>\n",
       "      <th>Latin America &amp; Caribbean</th>\n",
       "      <th>Middle East &amp; North Africa</th>\n",
       "      <th>North America</th>\n",
       "      <th>South Asia</th>\n",
       "      <th>Sub-Saharan Africa</th>\n",
       "    </tr>\n",
       "  </thead>\n",
       "  <tbody>\n",
       "    <tr>\n",
       "      <th>1990</th>\n",
       "      <td>1.822193e+09</td>\n",
       "      <td>842570541.0</td>\n",
       "      <td>442040696.0</td>\n",
       "      <td>254215138.0</td>\n",
       "      <td>277373464.0</td>\n",
       "      <td>1.133495e+09</td>\n",
       "      <td>509451851.0</td>\n",
       "    </tr>\n",
       "    <tr>\n",
       "      <th>1991</th>\n",
       "      <td>1.848222e+09</td>\n",
       "      <td>846356322.0</td>\n",
       "      <td>450125305.0</td>\n",
       "      <td>261046309.0</td>\n",
       "      <td>281077441.0</td>\n",
       "      <td>1.158656e+09</td>\n",
       "      <td>523726913.0</td>\n",
       "    </tr>\n",
       "    <tr>\n",
       "      <th>1992</th>\n",
       "      <td>1.872481e+09</td>\n",
       "      <td>849757442.0</td>\n",
       "      <td>458175526.0</td>\n",
       "      <td>265656619.0</td>\n",
       "      <td>284943859.0</td>\n",
       "      <td>1.184133e+09</td>\n",
       "      <td>538246469.0</td>\n",
       "    </tr>\n",
       "    <tr>\n",
       "      <th>1993</th>\n",
       "      <td>1.895898e+09</td>\n",
       "      <td>852712876.0</td>\n",
       "      <td>466199679.0</td>\n",
       "      <td>272107828.0</td>\n",
       "      <td>288662674.0</td>\n",
       "      <td>1.209848e+09</td>\n",
       "      <td>553020362.0</td>\n",
       "    </tr>\n",
       "    <tr>\n",
       "      <th>1994</th>\n",
       "      <td>1.919360e+09</td>\n",
       "      <td>854685450.0</td>\n",
       "      <td>474193423.0</td>\n",
       "      <td>278384965.0</td>\n",
       "      <td>292185983.0</td>\n",
       "      <td>1.235694e+09</td>\n",
       "      <td>568072008.0</td>\n",
       "    </tr>\n",
       "  </tbody>\n",
       "</table>\n",
       "</div>"
      ],
      "text/plain": [
       "Year  East Asia & Pacific  Europe & Central Asia  Latin America & Caribbean  \\\n",
       "1990         1.822193e+09            842570541.0                442040696.0   \n",
       "1991         1.848222e+09            846356322.0                450125305.0   \n",
       "1992         1.872481e+09            849757442.0                458175526.0   \n",
       "1993         1.895898e+09            852712876.0                466199679.0   \n",
       "1994         1.919360e+09            854685450.0                474193423.0   \n",
       "\n",
       "Year  Middle East & North Africa  North America    South Asia  \\\n",
       "1990                 254215138.0    277373464.0  1.133495e+09   \n",
       "1991                 261046309.0    281077441.0  1.158656e+09   \n",
       "1992                 265656619.0    284943859.0  1.184133e+09   \n",
       "1993                 272107828.0    288662674.0  1.209848e+09   \n",
       "1994                 278384965.0    292185983.0  1.235694e+09   \n",
       "\n",
       "Year  Sub-Saharan Africa  \n",
       "1990         509451851.0  \n",
       "1991         523726913.0  \n",
       "1992         538246469.0  \n",
       "1993         553020362.0  \n",
       "1994         568072008.0  "
      ]
     },
     "execution_count": 7,
     "metadata": {},
     "output_type": "execute_result"
    }
   ],
   "source": [
    "# Removing the the time periods that will not be use towards analysis\n",
    "total_population_regions_df_1990_2015 = total_population_regions_df['1990':'2015'].copy()\n",
    "total_population_regions_df_1990_2015.head()"
   ]
  },
  {
   "cell_type": "markdown",
   "metadata": {},
   "source": [
    "## 1.2 Population growth rate by region, 1960-2019"
   ]
  },
  {
   "cell_type": "code",
   "execution_count": 8,
   "metadata": {},
   "outputs": [
    {
     "data": {
      "text/html": [
       "<div>\n",
       "<style scoped>\n",
       "    .dataframe tbody tr th:only-of-type {\n",
       "        vertical-align: middle;\n",
       "    }\n",
       "\n",
       "    .dataframe tbody tr th {\n",
       "        vertical-align: top;\n",
       "    }\n",
       "\n",
       "    .dataframe thead th {\n",
       "        text-align: right;\n",
       "    }\n",
       "</style>\n",
       "<table border=\"1\" class=\"dataframe\">\n",
       "  <thead>\n",
       "    <tr style=\"text-align: right;\">\n",
       "      <th></th>\n",
       "      <th>1960</th>\n",
       "      <th>1961</th>\n",
       "      <th>1962</th>\n",
       "      <th>1963</th>\n",
       "      <th>1964</th>\n",
       "      <th>1965</th>\n",
       "      <th>1966</th>\n",
       "      <th>1967</th>\n",
       "      <th>1968</th>\n",
       "      <th>1969</th>\n",
       "      <th>...</th>\n",
       "      <th>2010</th>\n",
       "      <th>2011</th>\n",
       "      <th>2012</th>\n",
       "      <th>2013</th>\n",
       "      <th>2014</th>\n",
       "      <th>2015</th>\n",
       "      <th>2016</th>\n",
       "      <th>2017</th>\n",
       "      <th>2018</th>\n",
       "      <th>2019</th>\n",
       "    </tr>\n",
       "    <tr>\n",
       "      <th>Country Name</th>\n",
       "      <th></th>\n",
       "      <th></th>\n",
       "      <th></th>\n",
       "      <th></th>\n",
       "      <th></th>\n",
       "      <th></th>\n",
       "      <th></th>\n",
       "      <th></th>\n",
       "      <th></th>\n",
       "      <th></th>\n",
       "      <th></th>\n",
       "      <th></th>\n",
       "      <th></th>\n",
       "      <th></th>\n",
       "      <th></th>\n",
       "      <th></th>\n",
       "      <th></th>\n",
       "      <th></th>\n",
       "      <th></th>\n",
       "      <th></th>\n",
       "      <th></th>\n",
       "    </tr>\n",
       "  </thead>\n",
       "  <tbody>\n",
       "    <tr>\n",
       "      <th>East Asia &amp; Pacific</th>\n",
       "      <td>NaN</td>\n",
       "      <td>0.344540</td>\n",
       "      <td>1.385694</td>\n",
       "      <td>2.434097</td>\n",
       "      <td>2.343115</td>\n",
       "      <td>2.384862</td>\n",
       "      <td>2.631194</td>\n",
       "      <td>2.457561</td>\n",
       "      <td>2.448094</td>\n",
       "      <td>2.688673</td>\n",
       "      <td>...</td>\n",
       "      <td>0.676314</td>\n",
       "      <td>0.670107</td>\n",
       "      <td>0.681736</td>\n",
       "      <td>0.680785</td>\n",
       "      <td>0.685391</td>\n",
       "      <td>0.678000</td>\n",
       "      <td>0.685905</td>\n",
       "      <td>0.682526</td>\n",
       "      <td>0.605775</td>\n",
       "      <td>NaN</td>\n",
       "    </tr>\n",
       "    <tr>\n",
       "      <th>Europe &amp; Central Asia</th>\n",
       "      <td>NaN</td>\n",
       "      <td>1.155382</td>\n",
       "      <td>1.179139</td>\n",
       "      <td>1.175085</td>\n",
       "      <td>1.151246</td>\n",
       "      <td>1.105300</td>\n",
       "      <td>0.957966</td>\n",
       "      <td>0.922996</td>\n",
       "      <td>0.878846</td>\n",
       "      <td>0.851798</td>\n",
       "      <td>...</td>\n",
       "      <td>0.390515</td>\n",
       "      <td>0.251582</td>\n",
       "      <td>0.406780</td>\n",
       "      <td>0.478408</td>\n",
       "      <td>0.485542</td>\n",
       "      <td>0.483675</td>\n",
       "      <td>0.475392</td>\n",
       "      <td>0.395673</td>\n",
       "      <td>0.368512</td>\n",
       "      <td>NaN</td>\n",
       "    </tr>\n",
       "    <tr>\n",
       "      <th>Latin America &amp; Caribbean</th>\n",
       "      <td>NaN</td>\n",
       "      <td>2.767561</td>\n",
       "      <td>2.775141</td>\n",
       "      <td>2.768589</td>\n",
       "      <td>2.738806</td>\n",
       "      <td>2.698420</td>\n",
       "      <td>2.655241</td>\n",
       "      <td>2.613752</td>\n",
       "      <td>2.575565</td>\n",
       "      <td>2.538838</td>\n",
       "      <td>...</td>\n",
       "      <td>1.123295</td>\n",
       "      <td>1.128726</td>\n",
       "      <td>1.108944</td>\n",
       "      <td>1.087783</td>\n",
       "      <td>1.060012</td>\n",
       "      <td>1.032471</td>\n",
       "      <td>1.003880</td>\n",
       "      <td>0.974580</td>\n",
       "      <td>0.941967</td>\n",
       "      <td>NaN</td>\n",
       "    </tr>\n",
       "    <tr>\n",
       "      <th>Middle East &amp; North Africa</th>\n",
       "      <td>NaN</td>\n",
       "      <td>2.717162</td>\n",
       "      <td>2.761033</td>\n",
       "      <td>2.752169</td>\n",
       "      <td>2.777853</td>\n",
       "      <td>2.788450</td>\n",
       "      <td>2.793190</td>\n",
       "      <td>2.854371</td>\n",
       "      <td>2.810589</td>\n",
       "      <td>2.806514</td>\n",
       "      <td>...</td>\n",
       "      <td>2.126021</td>\n",
       "      <td>2.079883</td>\n",
       "      <td>2.038280</td>\n",
       "      <td>1.991087</td>\n",
       "      <td>1.940194</td>\n",
       "      <td>1.887753</td>\n",
       "      <td>1.826082</td>\n",
       "      <td>1.766063</td>\n",
       "      <td>1.735419</td>\n",
       "      <td>NaN</td>\n",
       "    </tr>\n",
       "    <tr>\n",
       "      <th>North America</th>\n",
       "      <td>NaN</td>\n",
       "      <td>1.703260</td>\n",
       "      <td>1.579694</td>\n",
       "      <td>1.488850</td>\n",
       "      <td>1.444968</td>\n",
       "      <td>1.310311</td>\n",
       "      <td>1.227812</td>\n",
       "      <td>1.161733</td>\n",
       "      <td>1.061704</td>\n",
       "      <td>1.018496</td>\n",
       "      <td>...</td>\n",
       "      <td>0.860596</td>\n",
       "      <td>0.753591</td>\n",
       "      <td>0.771521</td>\n",
       "      <td>0.732087</td>\n",
       "      <td>0.764029</td>\n",
       "      <td>0.740861</td>\n",
       "      <td>0.767035</td>\n",
       "      <td>0.697540</td>\n",
       "      <td>0.701862</td>\n",
       "      <td>NaN</td>\n",
       "    </tr>\n",
       "  </tbody>\n",
       "</table>\n",
       "<p>5 rows × 60 columns</p>\n",
       "</div>"
      ],
      "text/plain": [
       "                            1960      1961      1962      1963      1964  \\\n",
       "Country Name                                                               \n",
       "East Asia & Pacific          NaN  0.344540  1.385694  2.434097  2.343115   \n",
       "Europe & Central Asia        NaN  1.155382  1.179139  1.175085  1.151246   \n",
       "Latin America & Caribbean    NaN  2.767561  2.775141  2.768589  2.738806   \n",
       "Middle East & North Africa   NaN  2.717162  2.761033  2.752169  2.777853   \n",
       "North America                NaN  1.703260  1.579694  1.488850  1.444968   \n",
       "\n",
       "                                1965      1966      1967      1968      1969  \\\n",
       "Country Name                                                                   \n",
       "East Asia & Pacific         2.384862  2.631194  2.457561  2.448094  2.688673   \n",
       "Europe & Central Asia       1.105300  0.957966  0.922996  0.878846  0.851798   \n",
       "Latin America & Caribbean   2.698420  2.655241  2.613752  2.575565  2.538838   \n",
       "Middle East & North Africa  2.788450  2.793190  2.854371  2.810589  2.806514   \n",
       "North America               1.310311  1.227812  1.161733  1.061704  1.018496   \n",
       "\n",
       "                            ...      2010      2011      2012      2013  \\\n",
       "Country Name                ...                                           \n",
       "East Asia & Pacific         ...  0.676314  0.670107  0.681736  0.680785   \n",
       "Europe & Central Asia       ...  0.390515  0.251582  0.406780  0.478408   \n",
       "Latin America & Caribbean   ...  1.123295  1.128726  1.108944  1.087783   \n",
       "Middle East & North Africa  ...  2.126021  2.079883  2.038280  1.991087   \n",
       "North America               ...  0.860596  0.753591  0.771521  0.732087   \n",
       "\n",
       "                                2014      2015      2016      2017      2018  \\\n",
       "Country Name                                                                   \n",
       "East Asia & Pacific         0.685391  0.678000  0.685905  0.682526  0.605775   \n",
       "Europe & Central Asia       0.485542  0.483675  0.475392  0.395673  0.368512   \n",
       "Latin America & Caribbean   1.060012  1.032471  1.003880  0.974580  0.941967   \n",
       "Middle East & North Africa  1.940194  1.887753  1.826082  1.766063  1.735419   \n",
       "North America               0.764029  0.740861  0.767035  0.697540  0.701862   \n",
       "\n",
       "                            2019  \n",
       "Country Name                      \n",
       "East Asia & Pacific          NaN  \n",
       "Europe & Central Asia        NaN  \n",
       "Latin America & Caribbean    NaN  \n",
       "Middle East & North Africa   NaN  \n",
       "North America                NaN  \n",
       "\n",
       "[5 rows x 60 columns]"
      ]
     },
     "execution_count": 8,
     "metadata": {},
     "output_type": "execute_result"
    }
   ],
   "source": [
    "population_growth_rates_df.head()\n",
    "\n",
    "# Selecting the regions that I care about\n",
    "population_growth_rates_regions_df = population_growth_rates_df[(population_growth_rates_df['Country Name'].isin(regions))]\n",
    "\n",
    "# Removing the columns that will not be use towards analysis\n",
    "population_growth_rates_regions_df.drop(['Country Code','Indicator Name','Indicator Code'], axis=1, inplace=True)\n",
    "\n",
    "# Setting the Country Name column as the index for easier plotting and analysis later\n",
    "population_growth_rates_regions_df.set_index('Country Name', inplace=True)\n",
    "\n",
    "population_growth_rates_regions_df.head()"
   ]
  },
  {
   "cell_type": "code",
   "execution_count": 9,
   "metadata": {},
   "outputs": [
    {
     "data": {
      "text/html": [
       "<div>\n",
       "<style scoped>\n",
       "    .dataframe tbody tr th:only-of-type {\n",
       "        vertical-align: middle;\n",
       "    }\n",
       "\n",
       "    .dataframe tbody tr th {\n",
       "        vertical-align: top;\n",
       "    }\n",
       "\n",
       "    .dataframe thead th {\n",
       "        text-align: right;\n",
       "    }\n",
       "</style>\n",
       "<table border=\"1\" class=\"dataframe\">\n",
       "  <thead>\n",
       "    <tr style=\"text-align: right;\">\n",
       "      <th>Country Name</th>\n",
       "      <th>East Asia &amp; Pacific</th>\n",
       "      <th>Europe &amp; Central Asia</th>\n",
       "      <th>Latin America &amp; Caribbean</th>\n",
       "      <th>Middle East &amp; North Africa</th>\n",
       "      <th>North America</th>\n",
       "      <th>South Asia</th>\n",
       "      <th>Sub-Saharan Africa</th>\n",
       "    </tr>\n",
       "  </thead>\n",
       "  <tbody>\n",
       "    <tr>\n",
       "      <th>1960</th>\n",
       "      <td>NaN</td>\n",
       "      <td>NaN</td>\n",
       "      <td>NaN</td>\n",
       "      <td>NaN</td>\n",
       "      <td>NaN</td>\n",
       "      <td>NaN</td>\n",
       "      <td>NaN</td>\n",
       "    </tr>\n",
       "    <tr>\n",
       "      <th>1961</th>\n",
       "      <td>0.344540</td>\n",
       "      <td>1.155382</td>\n",
       "      <td>2.767561</td>\n",
       "      <td>2.717162</td>\n",
       "      <td>1.703260</td>\n",
       "      <td>2.112320</td>\n",
       "      <td>2.347287</td>\n",
       "    </tr>\n",
       "    <tr>\n",
       "      <th>1962</th>\n",
       "      <td>1.385694</td>\n",
       "      <td>1.179139</td>\n",
       "      <td>2.775141</td>\n",
       "      <td>2.761033</td>\n",
       "      <td>1.579694</td>\n",
       "      <td>2.146328</td>\n",
       "      <td>2.388412</td>\n",
       "    </tr>\n",
       "    <tr>\n",
       "      <th>1963</th>\n",
       "      <td>2.434097</td>\n",
       "      <td>1.175085</td>\n",
       "      <td>2.768589</td>\n",
       "      <td>2.752169</td>\n",
       "      <td>1.488850</td>\n",
       "      <td>2.176401</td>\n",
       "      <td>2.423856</td>\n",
       "    </tr>\n",
       "    <tr>\n",
       "      <th>1964</th>\n",
       "      <td>2.343115</td>\n",
       "      <td>1.151246</td>\n",
       "      <td>2.738806</td>\n",
       "      <td>2.777853</td>\n",
       "      <td>1.444968</td>\n",
       "      <td>2.202300</td>\n",
       "      <td>2.452021</td>\n",
       "    </tr>\n",
       "  </tbody>\n",
       "</table>\n",
       "</div>"
      ],
      "text/plain": [
       "Country Name  East Asia & Pacific  Europe & Central Asia  \\\n",
       "1960                          NaN                    NaN   \n",
       "1961                     0.344540               1.155382   \n",
       "1962                     1.385694               1.179139   \n",
       "1963                     2.434097               1.175085   \n",
       "1964                     2.343115               1.151246   \n",
       "\n",
       "Country Name  Latin America & Caribbean  Middle East & North Africa  \\\n",
       "1960                                NaN                         NaN   \n",
       "1961                           2.767561                    2.717162   \n",
       "1962                           2.775141                    2.761033   \n",
       "1963                           2.768589                    2.752169   \n",
       "1964                           2.738806                    2.777853   \n",
       "\n",
       "Country Name  North America  South Asia  Sub-Saharan Africa  \n",
       "1960                    NaN         NaN                 NaN  \n",
       "1961               1.703260    2.112320            2.347287  \n",
       "1962               1.579694    2.146328            2.388412  \n",
       "1963               1.488850    2.176401            2.423856  \n",
       "1964               1.444968    2.202300            2.452021  "
      ]
     },
     "execution_count": 9,
     "metadata": {},
     "output_type": "execute_result"
    }
   ],
   "source": [
    "population_growth_rates_regions_df = population_growth_rates_regions_df.transpose()\n",
    "\n",
    "population_growth_rates_regions_df.head()"
   ]
  },
  {
   "cell_type": "code",
   "execution_count": 10,
   "metadata": {},
   "outputs": [
    {
     "data": {
      "text/html": [
       "<div>\n",
       "<style scoped>\n",
       "    .dataframe tbody tr th:only-of-type {\n",
       "        vertical-align: middle;\n",
       "    }\n",
       "\n",
       "    .dataframe tbody tr th {\n",
       "        vertical-align: top;\n",
       "    }\n",
       "\n",
       "    .dataframe thead th {\n",
       "        text-align: right;\n",
       "    }\n",
       "</style>\n",
       "<table border=\"1\" class=\"dataframe\">\n",
       "  <thead>\n",
       "    <tr style=\"text-align: right;\">\n",
       "      <th>Year</th>\n",
       "      <th>East Asia &amp; Pacific</th>\n",
       "      <th>Europe &amp; Central Asia</th>\n",
       "      <th>Latin America &amp; Caribbean</th>\n",
       "      <th>Middle East &amp; North Africa</th>\n",
       "      <th>North America</th>\n",
       "      <th>South Asia</th>\n",
       "      <th>Sub-Saharan Africa</th>\n",
       "    </tr>\n",
       "  </thead>\n",
       "  <tbody>\n",
       "    <tr>\n",
       "      <th>1960</th>\n",
       "      <td>NaN</td>\n",
       "      <td>NaN</td>\n",
       "      <td>NaN</td>\n",
       "      <td>NaN</td>\n",
       "      <td>NaN</td>\n",
       "      <td>NaN</td>\n",
       "      <td>NaN</td>\n",
       "    </tr>\n",
       "    <tr>\n",
       "      <th>1961</th>\n",
       "      <td>0.344540</td>\n",
       "      <td>1.155382</td>\n",
       "      <td>2.767561</td>\n",
       "      <td>2.717162</td>\n",
       "      <td>1.703260</td>\n",
       "      <td>2.112320</td>\n",
       "      <td>2.347287</td>\n",
       "    </tr>\n",
       "    <tr>\n",
       "      <th>1962</th>\n",
       "      <td>1.385694</td>\n",
       "      <td>1.179139</td>\n",
       "      <td>2.775141</td>\n",
       "      <td>2.761033</td>\n",
       "      <td>1.579694</td>\n",
       "      <td>2.146328</td>\n",
       "      <td>2.388412</td>\n",
       "    </tr>\n",
       "    <tr>\n",
       "      <th>1963</th>\n",
       "      <td>2.434097</td>\n",
       "      <td>1.175085</td>\n",
       "      <td>2.768589</td>\n",
       "      <td>2.752169</td>\n",
       "      <td>1.488850</td>\n",
       "      <td>2.176401</td>\n",
       "      <td>2.423856</td>\n",
       "    </tr>\n",
       "    <tr>\n",
       "      <th>1964</th>\n",
       "      <td>2.343115</td>\n",
       "      <td>1.151246</td>\n",
       "      <td>2.738806</td>\n",
       "      <td>2.777853</td>\n",
       "      <td>1.444968</td>\n",
       "      <td>2.202300</td>\n",
       "      <td>2.452021</td>\n",
       "    </tr>\n",
       "  </tbody>\n",
       "</table>\n",
       "</div>"
      ],
      "text/plain": [
       "Year  East Asia & Pacific  Europe & Central Asia  Latin America & Caribbean  \\\n",
       "1960                  NaN                    NaN                        NaN   \n",
       "1961             0.344540               1.155382                   2.767561   \n",
       "1962             1.385694               1.179139                   2.775141   \n",
       "1963             2.434097               1.175085                   2.768589   \n",
       "1964             2.343115               1.151246                   2.738806   \n",
       "\n",
       "Year  Middle East & North Africa  North America  South Asia  \\\n",
       "1960                         NaN            NaN         NaN   \n",
       "1961                    2.717162       1.703260    2.112320   \n",
       "1962                    2.761033       1.579694    2.146328   \n",
       "1963                    2.752169       1.488850    2.176401   \n",
       "1964                    2.777853       1.444968    2.202300   \n",
       "\n",
       "Year  Sub-Saharan Africa  \n",
       "1960                 NaN  \n",
       "1961            2.347287  \n",
       "1962            2.388412  \n",
       "1963            2.423856  \n",
       "1964            2.452021  "
      ]
     },
     "execution_count": 10,
     "metadata": {},
     "output_type": "execute_result"
    }
   ],
   "source": [
    "# Changing the title of the index\n",
    "population_growth_rates_regions_df.rename_axis(columns={'Country Name': 'Year'}, inplace =True)\n",
    "\n",
    "population_growth_rates_regions_df.head()"
   ]
  },
  {
   "cell_type": "markdown",
   "metadata": {},
   "source": [
    "I only care the 1990-2015 time period"
   ]
  },
  {
   "cell_type": "code",
   "execution_count": 11,
   "metadata": {},
   "outputs": [
    {
     "data": {
      "text/html": [
       "<div>\n",
       "<style scoped>\n",
       "    .dataframe tbody tr th:only-of-type {\n",
       "        vertical-align: middle;\n",
       "    }\n",
       "\n",
       "    .dataframe tbody tr th {\n",
       "        vertical-align: top;\n",
       "    }\n",
       "\n",
       "    .dataframe thead th {\n",
       "        text-align: right;\n",
       "    }\n",
       "</style>\n",
       "<table border=\"1\" class=\"dataframe\">\n",
       "  <thead>\n",
       "    <tr style=\"text-align: right;\">\n",
       "      <th>Year</th>\n",
       "      <th>East Asia &amp; Pacific</th>\n",
       "      <th>Europe &amp; Central Asia</th>\n",
       "      <th>Latin America &amp; Caribbean</th>\n",
       "      <th>Middle East &amp; North Africa</th>\n",
       "      <th>North America</th>\n",
       "      <th>South Asia</th>\n",
       "      <th>Sub-Saharan Africa</th>\n",
       "    </tr>\n",
       "  </thead>\n",
       "  <tbody>\n",
       "    <tr>\n",
       "      <th>1990</th>\n",
       "      <td>1.505942</td>\n",
       "      <td>0.525913</td>\n",
       "      <td>1.870091</td>\n",
       "      <td>3.569673</td>\n",
       "      <td>1.174097</td>\n",
       "      <td>2.236199</td>\n",
       "      <td>2.834931</td>\n",
       "    </tr>\n",
       "    <tr>\n",
       "      <th>1991</th>\n",
       "      <td>1.428443</td>\n",
       "      <td>0.449313</td>\n",
       "      <td>1.828929</td>\n",
       "      <td>2.687161</td>\n",
       "      <td>1.335375</td>\n",
       "      <td>2.219720</td>\n",
       "      <td>2.802043</td>\n",
       "    </tr>\n",
       "    <tr>\n",
       "      <th>1992</th>\n",
       "      <td>1.312534</td>\n",
       "      <td>0.401854</td>\n",
       "      <td>1.788440</td>\n",
       "      <td>1.766089</td>\n",
       "      <td>1.375570</td>\n",
       "      <td>2.198902</td>\n",
       "      <td>2.772352</td>\n",
       "    </tr>\n",
       "    <tr>\n",
       "      <th>1993</th>\n",
       "      <td>1.250576</td>\n",
       "      <td>0.347797</td>\n",
       "      <td>1.751327</td>\n",
       "      <td>2.428401</td>\n",
       "      <td>1.305104</td>\n",
       "      <td>2.171586</td>\n",
       "      <td>2.744819</td>\n",
       "    </tr>\n",
       "    <tr>\n",
       "      <th>1994</th>\n",
       "      <td>1.237525</td>\n",
       "      <td>0.231329</td>\n",
       "      <td>1.714661</td>\n",
       "      <td>2.306856</td>\n",
       "      <td>1.220563</td>\n",
       "      <td>2.136309</td>\n",
       "      <td>2.721716</td>\n",
       "    </tr>\n",
       "  </tbody>\n",
       "</table>\n",
       "</div>"
      ],
      "text/plain": [
       "Year  East Asia & Pacific  Europe & Central Asia  Latin America & Caribbean  \\\n",
       "1990             1.505942               0.525913                   1.870091   \n",
       "1991             1.428443               0.449313                   1.828929   \n",
       "1992             1.312534               0.401854                   1.788440   \n",
       "1993             1.250576               0.347797                   1.751327   \n",
       "1994             1.237525               0.231329                   1.714661   \n",
       "\n",
       "Year  Middle East & North Africa  North America  South Asia  \\\n",
       "1990                    3.569673       1.174097    2.236199   \n",
       "1991                    2.687161       1.335375    2.219720   \n",
       "1992                    1.766089       1.375570    2.198902   \n",
       "1993                    2.428401       1.305104    2.171586   \n",
       "1994                    2.306856       1.220563    2.136309   \n",
       "\n",
       "Year  Sub-Saharan Africa  \n",
       "1990            2.834931  \n",
       "1991            2.802043  \n",
       "1992            2.772352  \n",
       "1993            2.744819  \n",
       "1994            2.721716  "
      ]
     },
     "execution_count": 11,
     "metadata": {},
     "output_type": "execute_result"
    }
   ],
   "source": [
    "# Removing the the time periods that will not be use towards analysis\n",
    "population_growth_rates_regions_df_1990_2015 = population_growth_rates_regions_df['1990':'2015'].copy()\n",
    "population_growth_rates_regions_df_1990_2015.head()"
   ]
  },
  {
   "cell_type": "markdown",
   "metadata": {},
   "source": [
    "## 1.3 Share of deaths from unsafe water sources, 1990-2017"
   ]
  },
  {
   "cell_type": "code",
   "execution_count": 12,
   "metadata": {},
   "outputs": [],
   "source": [
    "death_unsafe_water_df.head()\n",
    "death_unsafe_water_regions_df = death_unsafe_water_df[(death_unsafe_water_df['Entity'].isin(regions))]"
   ]
  },
  {
   "cell_type": "code",
   "execution_count": 13,
   "metadata": {},
   "outputs": [
    {
     "data": {
      "text/html": [
       "<div>\n",
       "<style scoped>\n",
       "    .dataframe tbody tr th:only-of-type {\n",
       "        vertical-align: middle;\n",
       "    }\n",
       "\n",
       "    .dataframe tbody tr th {\n",
       "        vertical-align: top;\n",
       "    }\n",
       "\n",
       "    .dataframe thead th {\n",
       "        text-align: right;\n",
       "    }\n",
       "</style>\n",
       "<table border=\"1\" class=\"dataframe\">\n",
       "  <thead>\n",
       "    <tr style=\"text-align: right;\">\n",
       "      <th></th>\n",
       "      <th>Entity</th>\n",
       "      <th>Year</th>\n",
       "      <th>Share of deaths from unsafe water sources (%)</th>\n",
       "    </tr>\n",
       "  </thead>\n",
       "  <tbody>\n",
       "    <tr>\n",
       "      <th>1680</th>\n",
       "      <td>East Asia &amp; Pacific</td>\n",
       "      <td>1990</td>\n",
       "      <td>1.61</td>\n",
       "    </tr>\n",
       "    <tr>\n",
       "      <th>1681</th>\n",
       "      <td>East Asia &amp; Pacific</td>\n",
       "      <td>1991</td>\n",
       "      <td>1.50</td>\n",
       "    </tr>\n",
       "    <tr>\n",
       "      <th>1682</th>\n",
       "      <td>East Asia &amp; Pacific</td>\n",
       "      <td>1992</td>\n",
       "      <td>1.39</td>\n",
       "    </tr>\n",
       "    <tr>\n",
       "      <th>1683</th>\n",
       "      <td>East Asia &amp; Pacific</td>\n",
       "      <td>1993</td>\n",
       "      <td>1.30</td>\n",
       "    </tr>\n",
       "    <tr>\n",
       "      <th>1684</th>\n",
       "      <td>East Asia &amp; Pacific</td>\n",
       "      <td>1994</td>\n",
       "      <td>1.23</td>\n",
       "    </tr>\n",
       "  </tbody>\n",
       "</table>\n",
       "</div>"
      ],
      "text/plain": [
       "                   Entity  Year  Share of deaths from unsafe water sources (%)\n",
       "1680  East Asia & Pacific  1990                                           1.61\n",
       "1681  East Asia & Pacific  1991                                           1.50\n",
       "1682  East Asia & Pacific  1992                                           1.39\n",
       "1683  East Asia & Pacific  1993                                           1.30\n",
       "1684  East Asia & Pacific  1994                                           1.23"
      ]
     },
     "execution_count": 13,
     "metadata": {},
     "output_type": "execute_result"
    }
   ],
   "source": [
    "death_unsafe_water_regions_df.head()"
   ]
  },
  {
   "cell_type": "markdown",
   "metadata": {},
   "source": [
    "I want the last two data sets to have the same format as the first two for easier analysis."
   ]
  },
  {
   "cell_type": "code",
   "execution_count": 14,
   "metadata": {},
   "outputs": [],
   "source": [
    "# Function to get the arrays of data for each region\n",
    "def unsafe_water(x):\n",
    "    unsafe_water_regions = death_unsafe_water_regions_df[(death_unsafe_water_regions_df['Entity'].isin([x]))]\n",
    "    return unsafe_water_regions['Share of deaths from unsafe water sources (%)']\n",
    "\n",
    "north_america_unsafe_water = unsafe_water('North America').values\n",
    "latin_america_unsafe_water = unsafe_water('Latin America & Caribbean').values\n",
    "sub_suharan_unsafe_water = unsafe_water('Sub-Saharan Africa').values\n",
    "middle_east_unsafe_water = unsafe_water('Middle East & North Africa').values\n",
    "europe_central_asia_unsafe_water = unsafe_water('Europe & Central Asia').values\n",
    "east_asia_pacific_unsafe_water = unsafe_water('East Asia & Pacific').values\n",
    "south_asia_unsafe_water = unsafe_water('South Asia').values\n",
    "\n",
    "years_unsafe_water = death_unsafe_water_regions_df['Year'].unique()\n",
    "#print(years_unsafe_water)"
   ]
  },
  {
   "cell_type": "code",
   "execution_count": 15,
   "metadata": {},
   "outputs": [
    {
     "data": {
      "text/html": [
       "<div>\n",
       "<style scoped>\n",
       "    .dataframe tbody tr th:only-of-type {\n",
       "        vertical-align: middle;\n",
       "    }\n",
       "\n",
       "    .dataframe tbody tr th {\n",
       "        vertical-align: top;\n",
       "    }\n",
       "\n",
       "    .dataframe thead th {\n",
       "        text-align: right;\n",
       "    }\n",
       "</style>\n",
       "<table border=\"1\" class=\"dataframe\">\n",
       "  <thead>\n",
       "    <tr style=\"text-align: right;\">\n",
       "      <th></th>\n",
       "      <th>North America</th>\n",
       "      <th>Latin America &amp; Caribbean</th>\n",
       "      <th>Sub-Saharan Africa</th>\n",
       "      <th>Middle East &amp; North Africa</th>\n",
       "      <th>Europe &amp; Central Asia</th>\n",
       "      <th>East Asia &amp; Pacific</th>\n",
       "      <th>South Asia</th>\n",
       "    </tr>\n",
       "    <tr>\n",
       "      <th>Country Name</th>\n",
       "      <th></th>\n",
       "      <th></th>\n",
       "      <th></th>\n",
       "      <th></th>\n",
       "      <th></th>\n",
       "      <th></th>\n",
       "      <th></th>\n",
       "    </tr>\n",
       "  </thead>\n",
       "  <tbody>\n",
       "    <tr>\n",
       "      <th>1990</th>\n",
       "      <td>0.0</td>\n",
       "      <td>3.28</td>\n",
       "      <td>9.21</td>\n",
       "      <td>3.93</td>\n",
       "      <td>0.20</td>\n",
       "      <td>1.61</td>\n",
       "      <td>9.68</td>\n",
       "    </tr>\n",
       "    <tr>\n",
       "      <th>1991</th>\n",
       "      <td>0.0</td>\n",
       "      <td>3.15</td>\n",
       "      <td>9.25</td>\n",
       "      <td>3.68</td>\n",
       "      <td>0.18</td>\n",
       "      <td>1.50</td>\n",
       "      <td>9.42</td>\n",
       "    </tr>\n",
       "    <tr>\n",
       "      <th>1992</th>\n",
       "      <td>0.0</td>\n",
       "      <td>2.82</td>\n",
       "      <td>9.03</td>\n",
       "      <td>3.45</td>\n",
       "      <td>0.17</td>\n",
       "      <td>1.39</td>\n",
       "      <td>9.33</td>\n",
       "    </tr>\n",
       "    <tr>\n",
       "      <th>1993</th>\n",
       "      <td>0.0</td>\n",
       "      <td>2.56</td>\n",
       "      <td>8.85</td>\n",
       "      <td>3.20</td>\n",
       "      <td>0.15</td>\n",
       "      <td>1.30</td>\n",
       "      <td>9.19</td>\n",
       "    </tr>\n",
       "    <tr>\n",
       "      <th>1994</th>\n",
       "      <td>0.0</td>\n",
       "      <td>2.31</td>\n",
       "      <td>8.22</td>\n",
       "      <td>2.95</td>\n",
       "      <td>0.15</td>\n",
       "      <td>1.23</td>\n",
       "      <td>8.98</td>\n",
       "    </tr>\n",
       "  </tbody>\n",
       "</table>\n",
       "</div>"
      ],
      "text/plain": [
       "              North America  Latin America & Caribbean  Sub-Saharan Africa  \\\n",
       "Country Name                                                                 \n",
       "1990                    0.0                       3.28                9.21   \n",
       "1991                    0.0                       3.15                9.25   \n",
       "1992                    0.0                       2.82                9.03   \n",
       "1993                    0.0                       2.56                8.85   \n",
       "1994                    0.0                       2.31                8.22   \n",
       "\n",
       "              Middle East & North Africa  Europe & Central Asia  \\\n",
       "Country Name                                                      \n",
       "1990                                3.93                   0.20   \n",
       "1991                                3.68                   0.18   \n",
       "1992                                3.45                   0.17   \n",
       "1993                                3.20                   0.15   \n",
       "1994                                2.95                   0.15   \n",
       "\n",
       "              East Asia & Pacific  South Asia  \n",
       "Country Name                                   \n",
       "1990                         1.61        9.68  \n",
       "1991                         1.50        9.42  \n",
       "1992                         1.39        9.33  \n",
       "1993                         1.30        9.19  \n",
       "1994                         1.23        8.98  "
      ]
     },
     "execution_count": 15,
     "metadata": {},
     "output_type": "execute_result"
    }
   ],
   "source": [
    "data = {'Country Name':years_unsafe_water, 'North America':north_america_unsafe_water, 'Latin America & Caribbean':latin_america_unsafe_water, 'Sub-Saharan Africa':sub_suharan_unsafe_water, 'Middle East & North Africa':middle_east_unsafe_water, 'Europe & Central Asia':europe_central_asia_unsafe_water, 'East Asia & Pacific':east_asia_pacific_unsafe_water, 'South Asia':south_asia_unsafe_water}\n",
    "unsafe_water_regions_1990_2017 = pd.DataFrame(data)\n",
    "\n",
    "unsafe_water_regions_1990_2015 = unsafe_water_regions_1990_2017[0:26].copy()\n",
    "unsafe_water_regions_1990_2015.set_index('Country Name', inplace=True)\n",
    "\n",
    "unsafe_water_regions_1990_2015.head()"
   ]
  },
  {
   "cell_type": "code",
   "execution_count": 16,
   "metadata": {},
   "outputs": [
    {
     "data": {
      "text/html": [
       "<div>\n",
       "<style scoped>\n",
       "    .dataframe tbody tr th:only-of-type {\n",
       "        vertical-align: middle;\n",
       "    }\n",
       "\n",
       "    .dataframe tbody tr th {\n",
       "        vertical-align: top;\n",
       "    }\n",
       "\n",
       "    .dataframe thead th {\n",
       "        text-align: right;\n",
       "    }\n",
       "</style>\n",
       "<table border=\"1\" class=\"dataframe\">\n",
       "  <thead>\n",
       "    <tr style=\"text-align: right;\">\n",
       "      <th></th>\n",
       "      <th>North America</th>\n",
       "      <th>Latin America &amp; Caribbean</th>\n",
       "      <th>Sub-Saharan Africa</th>\n",
       "      <th>Middle East &amp; North Africa</th>\n",
       "      <th>Europe &amp; Central Asia</th>\n",
       "      <th>East Asia &amp; Pacific</th>\n",
       "      <th>South Asia</th>\n",
       "    </tr>\n",
       "    <tr>\n",
       "      <th>Year</th>\n",
       "      <th></th>\n",
       "      <th></th>\n",
       "      <th></th>\n",
       "      <th></th>\n",
       "      <th></th>\n",
       "      <th></th>\n",
       "      <th></th>\n",
       "    </tr>\n",
       "  </thead>\n",
       "  <tbody>\n",
       "    <tr>\n",
       "      <th>1990</th>\n",
       "      <td>0.0</td>\n",
       "      <td>3.28</td>\n",
       "      <td>9.21</td>\n",
       "      <td>3.93</td>\n",
       "      <td>0.20</td>\n",
       "      <td>1.61</td>\n",
       "      <td>9.68</td>\n",
       "    </tr>\n",
       "    <tr>\n",
       "      <th>1991</th>\n",
       "      <td>0.0</td>\n",
       "      <td>3.15</td>\n",
       "      <td>9.25</td>\n",
       "      <td>3.68</td>\n",
       "      <td>0.18</td>\n",
       "      <td>1.50</td>\n",
       "      <td>9.42</td>\n",
       "    </tr>\n",
       "    <tr>\n",
       "      <th>1992</th>\n",
       "      <td>0.0</td>\n",
       "      <td>2.82</td>\n",
       "      <td>9.03</td>\n",
       "      <td>3.45</td>\n",
       "      <td>0.17</td>\n",
       "      <td>1.39</td>\n",
       "      <td>9.33</td>\n",
       "    </tr>\n",
       "    <tr>\n",
       "      <th>1993</th>\n",
       "      <td>0.0</td>\n",
       "      <td>2.56</td>\n",
       "      <td>8.85</td>\n",
       "      <td>3.20</td>\n",
       "      <td>0.15</td>\n",
       "      <td>1.30</td>\n",
       "      <td>9.19</td>\n",
       "    </tr>\n",
       "    <tr>\n",
       "      <th>1994</th>\n",
       "      <td>0.0</td>\n",
       "      <td>2.31</td>\n",
       "      <td>8.22</td>\n",
       "      <td>2.95</td>\n",
       "      <td>0.15</td>\n",
       "      <td>1.23</td>\n",
       "      <td>8.98</td>\n",
       "    </tr>\n",
       "  </tbody>\n",
       "</table>\n",
       "</div>"
      ],
      "text/plain": [
       "      North America  Latin America & Caribbean  Sub-Saharan Africa  \\\n",
       "Year                                                                 \n",
       "1990            0.0                       3.28                9.21   \n",
       "1991            0.0                       3.15                9.25   \n",
       "1992            0.0                       2.82                9.03   \n",
       "1993            0.0                       2.56                8.85   \n",
       "1994            0.0                       2.31                8.22   \n",
       "\n",
       "      Middle East & North Africa  Europe & Central Asia  East Asia & Pacific  \\\n",
       "Year                                                                           \n",
       "1990                        3.93                   0.20                 1.61   \n",
       "1991                        3.68                   0.18                 1.50   \n",
       "1992                        3.45                   0.17                 1.39   \n",
       "1993                        3.20                   0.15                 1.30   \n",
       "1994                        2.95                   0.15                 1.23   \n",
       "\n",
       "      South Asia  \n",
       "Year              \n",
       "1990        9.68  \n",
       "1991        9.42  \n",
       "1992        9.33  \n",
       "1993        9.19  \n",
       "1994        8.98  "
      ]
     },
     "execution_count": 16,
     "metadata": {},
     "output_type": "execute_result"
    }
   ],
   "source": [
    "# Changing the title of the index\n",
    "unsafe_water_regions_1990_2015.rename_axis(index={'Country Name': 'Year'}, inplace =True)\n",
    "\n",
    "unsafe_water_regions_1990_2015.head()"
   ]
  },
  {
   "cell_type": "markdown",
   "metadata": {},
   "source": [
    "## 1.4 Share of the population with access to improved drinking water by region, 1990-2015"
   ]
  },
  {
   "cell_type": "code",
   "execution_count": 17,
   "metadata": {},
   "outputs": [],
   "source": [
    "improved_water_access_df.head()\n",
    "improved_water_access_regions_df = improved_water_access_df[(improved_water_access_df['Entity'].isin(regions))]"
   ]
  },
  {
   "cell_type": "code",
   "execution_count": 18,
   "metadata": {},
   "outputs": [
    {
     "data": {
      "text/html": [
       "<div>\n",
       "<style scoped>\n",
       "    .dataframe tbody tr th:only-of-type {\n",
       "        vertical-align: middle;\n",
       "    }\n",
       "\n",
       "    .dataframe tbody tr th {\n",
       "        vertical-align: top;\n",
       "    }\n",
       "\n",
       "    .dataframe thead th {\n",
       "        text-align: right;\n",
       "    }\n",
       "</style>\n",
       "<table border=\"1\" class=\"dataframe\">\n",
       "  <thead>\n",
       "    <tr style=\"text-align: right;\">\n",
       "      <th></th>\n",
       "      <th>Entity</th>\n",
       "      <th>Year</th>\n",
       "      <th>Improved water source (% of population with access) (% of population with access)</th>\n",
       "    </tr>\n",
       "  </thead>\n",
       "  <tbody>\n",
       "    <tr>\n",
       "      <th>1430</th>\n",
       "      <td>East Asia &amp; Pacific</td>\n",
       "      <td>1990</td>\n",
       "      <td>71.195388</td>\n",
       "    </tr>\n",
       "    <tr>\n",
       "      <th>1431</th>\n",
       "      <td>East Asia &amp; Pacific</td>\n",
       "      <td>1991</td>\n",
       "      <td>72.672133</td>\n",
       "    </tr>\n",
       "    <tr>\n",
       "      <th>1432</th>\n",
       "      <td>East Asia &amp; Pacific</td>\n",
       "      <td>1992</td>\n",
       "      <td>73.785430</td>\n",
       "    </tr>\n",
       "    <tr>\n",
       "      <th>1433</th>\n",
       "      <td>East Asia &amp; Pacific</td>\n",
       "      <td>1993</td>\n",
       "      <td>74.845372</td>\n",
       "    </tr>\n",
       "    <tr>\n",
       "      <th>1434</th>\n",
       "      <td>East Asia &amp; Pacific</td>\n",
       "      <td>1994</td>\n",
       "      <td>75.771881</td>\n",
       "    </tr>\n",
       "  </tbody>\n",
       "</table>\n",
       "</div>"
      ],
      "text/plain": [
       "                   Entity  Year  \\\n",
       "1430  East Asia & Pacific  1990   \n",
       "1431  East Asia & Pacific  1991   \n",
       "1432  East Asia & Pacific  1992   \n",
       "1433  East Asia & Pacific  1993   \n",
       "1434  East Asia & Pacific  1994   \n",
       "\n",
       "      Improved water source (% of population with access) (% of population with access)  \n",
       "1430                                          71.195388                                  \n",
       "1431                                          72.672133                                  \n",
       "1432                                          73.785430                                  \n",
       "1433                                          74.845372                                  \n",
       "1434                                          75.771881                                  "
      ]
     },
     "execution_count": 18,
     "metadata": {},
     "output_type": "execute_result"
    }
   ],
   "source": [
    "improved_water_access_regions_df.head()"
   ]
  },
  {
   "cell_type": "markdown",
   "metadata": {},
   "source": [
    "I want the last two data sets to have the same format as the first two for easier analysis."
   ]
  },
  {
   "cell_type": "code",
   "execution_count": 19,
   "metadata": {},
   "outputs": [],
   "source": [
    "# Function to get the arrays of data for each region\n",
    "def improved_water(x):\n",
    "    improved_water_regions = improved_water_access_regions_df[(improved_water_access_regions_df['Entity'].isin([x]))]\n",
    "    return improved_water_regions['Improved water source (% of population with access) (% of population with access)']\n",
    "\n",
    "north_america_improved_water = improved_water('North America').values\n",
    "latin_america_improved_water = improved_water('Latin America & Caribbean').values\n",
    "sub_suharan_improved_water = improved_water('Sub-Saharan Africa').values\n",
    "middle_east_improved_water = improved_water('Middle East & North Africa').values\n",
    "europe_central_asia_improved_water = improved_water('Europe & Central Asia').values\n",
    "east_asia_pacific_improved_water = improved_water('East Asia & Pacific').values\n",
    "south_asia_improved_water = improved_water('South Asia').values\n",
    "\n",
    "years_improved_water = improved_water_access_regions_df['Year'].unique()\n",
    "#print(years_improved_water)"
   ]
  },
  {
   "cell_type": "code",
   "execution_count": 20,
   "metadata": {},
   "outputs": [
    {
     "data": {
      "text/html": [
       "<div>\n",
       "<style scoped>\n",
       "    .dataframe tbody tr th:only-of-type {\n",
       "        vertical-align: middle;\n",
       "    }\n",
       "\n",
       "    .dataframe tbody tr th {\n",
       "        vertical-align: top;\n",
       "    }\n",
       "\n",
       "    .dataframe thead th {\n",
       "        text-align: right;\n",
       "    }\n",
       "</style>\n",
       "<table border=\"1\" class=\"dataframe\">\n",
       "  <thead>\n",
       "    <tr style=\"text-align: right;\">\n",
       "      <th></th>\n",
       "      <th>North America</th>\n",
       "      <th>Latin America &amp; Caribbean</th>\n",
       "      <th>Sub-Saharan Africa</th>\n",
       "      <th>Middle East &amp; North Africa</th>\n",
       "      <th>Europe &amp; Central Asia</th>\n",
       "      <th>East Asia &amp; Pacific</th>\n",
       "      <th>South Asia</th>\n",
       "    </tr>\n",
       "    <tr>\n",
       "      <th>Country Name</th>\n",
       "      <th></th>\n",
       "      <th></th>\n",
       "      <th></th>\n",
       "      <th></th>\n",
       "      <th></th>\n",
       "      <th></th>\n",
       "      <th></th>\n",
       "    </tr>\n",
       "  </thead>\n",
       "  <tbody>\n",
       "    <tr>\n",
       "      <th>1990</th>\n",
       "      <td>98.540250</td>\n",
       "      <td>84.875156</td>\n",
       "      <td>46.892503</td>\n",
       "      <td>87.421624</td>\n",
       "      <td>95.497574</td>\n",
       "      <td>71.195388</td>\n",
       "      <td>71.685458</td>\n",
       "    </tr>\n",
       "    <tr>\n",
       "      <th>1991</th>\n",
       "      <td>98.540281</td>\n",
       "      <td>85.373760</td>\n",
       "      <td>47.574676</td>\n",
       "      <td>87.619259</td>\n",
       "      <td>95.588583</td>\n",
       "      <td>72.672133</td>\n",
       "      <td>72.025790</td>\n",
       "    </tr>\n",
       "    <tr>\n",
       "      <th>1992</th>\n",
       "      <td>98.630074</td>\n",
       "      <td>85.883372</td>\n",
       "      <td>48.238131</td>\n",
       "      <td>87.710603</td>\n",
       "      <td>95.628604</td>\n",
       "      <td>73.785430</td>\n",
       "      <td>72.977601</td>\n",
       "    </tr>\n",
       "    <tr>\n",
       "      <th>1993</th>\n",
       "      <td>98.629812</td>\n",
       "      <td>86.384971</td>\n",
       "      <td>48.666323</td>\n",
       "      <td>87.840467</td>\n",
       "      <td>95.489073</td>\n",
       "      <td>74.845372</td>\n",
       "      <td>73.854765</td>\n",
       "    </tr>\n",
       "    <tr>\n",
       "      <th>1994</th>\n",
       "      <td>98.719541</td>\n",
       "      <td>86.934487</td>\n",
       "      <td>49.584787</td>\n",
       "      <td>87.931294</td>\n",
       "      <td>95.539963</td>\n",
       "      <td>75.771881</td>\n",
       "      <td>74.725030</td>\n",
       "    </tr>\n",
       "  </tbody>\n",
       "</table>\n",
       "</div>"
      ],
      "text/plain": [
       "              North America  Latin America & Caribbean  Sub-Saharan Africa  \\\n",
       "Country Name                                                                 \n",
       "1990              98.540250                  84.875156           46.892503   \n",
       "1991              98.540281                  85.373760           47.574676   \n",
       "1992              98.630074                  85.883372           48.238131   \n",
       "1993              98.629812                  86.384971           48.666323   \n",
       "1994              98.719541                  86.934487           49.584787   \n",
       "\n",
       "              Middle East & North Africa  Europe & Central Asia  \\\n",
       "Country Name                                                      \n",
       "1990                           87.421624              95.497574   \n",
       "1991                           87.619259              95.588583   \n",
       "1992                           87.710603              95.628604   \n",
       "1993                           87.840467              95.489073   \n",
       "1994                           87.931294              95.539963   \n",
       "\n",
       "              East Asia & Pacific  South Asia  \n",
       "Country Name                                   \n",
       "1990                    71.195388   71.685458  \n",
       "1991                    72.672133   72.025790  \n",
       "1992                    73.785430   72.977601  \n",
       "1993                    74.845372   73.854765  \n",
       "1994                    75.771881   74.725030  "
      ]
     },
     "execution_count": 20,
     "metadata": {},
     "output_type": "execute_result"
    }
   ],
   "source": [
    "data_1 = {'Country Name':years_improved_water, 'North America':north_america_improved_water, 'Latin America & Caribbean':latin_america_improved_water, 'Sub-Saharan Africa':sub_suharan_improved_water, 'Middle East & North Africa':middle_east_improved_water, 'Europe & Central Asia':europe_central_asia_improved_water, 'East Asia & Pacific':east_asia_pacific_improved_water, 'South Asia':south_asia_improved_water}\n",
    "improved_water_regions_1990_2015 = pd.DataFrame(data_1)\n",
    "improved_water_regions_1990_2015.set_index('Country Name', inplace=True)\n",
    "\n",
    "improved_water_regions_1990_2015.head()"
   ]
  },
  {
   "cell_type": "code",
   "execution_count": 21,
   "metadata": {},
   "outputs": [
    {
     "data": {
      "text/html": [
       "<div>\n",
       "<style scoped>\n",
       "    .dataframe tbody tr th:only-of-type {\n",
       "        vertical-align: middle;\n",
       "    }\n",
       "\n",
       "    .dataframe tbody tr th {\n",
       "        vertical-align: top;\n",
       "    }\n",
       "\n",
       "    .dataframe thead th {\n",
       "        text-align: right;\n",
       "    }\n",
       "</style>\n",
       "<table border=\"1\" class=\"dataframe\">\n",
       "  <thead>\n",
       "    <tr style=\"text-align: right;\">\n",
       "      <th></th>\n",
       "      <th>North America</th>\n",
       "      <th>Latin America &amp; Caribbean</th>\n",
       "      <th>Sub-Saharan Africa</th>\n",
       "      <th>Middle East &amp; North Africa</th>\n",
       "      <th>Europe &amp; Central Asia</th>\n",
       "      <th>East Asia &amp; Pacific</th>\n",
       "      <th>South Asia</th>\n",
       "    </tr>\n",
       "    <tr>\n",
       "      <th>Year</th>\n",
       "      <th></th>\n",
       "      <th></th>\n",
       "      <th></th>\n",
       "      <th></th>\n",
       "      <th></th>\n",
       "      <th></th>\n",
       "      <th></th>\n",
       "    </tr>\n",
       "  </thead>\n",
       "  <tbody>\n",
       "    <tr>\n",
       "      <th>1990</th>\n",
       "      <td>98.540250</td>\n",
       "      <td>84.875156</td>\n",
       "      <td>46.892503</td>\n",
       "      <td>87.421624</td>\n",
       "      <td>95.497574</td>\n",
       "      <td>71.195388</td>\n",
       "      <td>71.685458</td>\n",
       "    </tr>\n",
       "    <tr>\n",
       "      <th>1991</th>\n",
       "      <td>98.540281</td>\n",
       "      <td>85.373760</td>\n",
       "      <td>47.574676</td>\n",
       "      <td>87.619259</td>\n",
       "      <td>95.588583</td>\n",
       "      <td>72.672133</td>\n",
       "      <td>72.025790</td>\n",
       "    </tr>\n",
       "    <tr>\n",
       "      <th>1992</th>\n",
       "      <td>98.630074</td>\n",
       "      <td>85.883372</td>\n",
       "      <td>48.238131</td>\n",
       "      <td>87.710603</td>\n",
       "      <td>95.628604</td>\n",
       "      <td>73.785430</td>\n",
       "      <td>72.977601</td>\n",
       "    </tr>\n",
       "    <tr>\n",
       "      <th>1993</th>\n",
       "      <td>98.629812</td>\n",
       "      <td>86.384971</td>\n",
       "      <td>48.666323</td>\n",
       "      <td>87.840467</td>\n",
       "      <td>95.489073</td>\n",
       "      <td>74.845372</td>\n",
       "      <td>73.854765</td>\n",
       "    </tr>\n",
       "    <tr>\n",
       "      <th>1994</th>\n",
       "      <td>98.719541</td>\n",
       "      <td>86.934487</td>\n",
       "      <td>49.584787</td>\n",
       "      <td>87.931294</td>\n",
       "      <td>95.539963</td>\n",
       "      <td>75.771881</td>\n",
       "      <td>74.725030</td>\n",
       "    </tr>\n",
       "  </tbody>\n",
       "</table>\n",
       "</div>"
      ],
      "text/plain": [
       "      North America  Latin America & Caribbean  Sub-Saharan Africa  \\\n",
       "Year                                                                 \n",
       "1990      98.540250                  84.875156           46.892503   \n",
       "1991      98.540281                  85.373760           47.574676   \n",
       "1992      98.630074                  85.883372           48.238131   \n",
       "1993      98.629812                  86.384971           48.666323   \n",
       "1994      98.719541                  86.934487           49.584787   \n",
       "\n",
       "      Middle East & North Africa  Europe & Central Asia  East Asia & Pacific  \\\n",
       "Year                                                                           \n",
       "1990                   87.421624              95.497574            71.195388   \n",
       "1991                   87.619259              95.588583            72.672133   \n",
       "1992                   87.710603              95.628604            73.785430   \n",
       "1993                   87.840467              95.489073            74.845372   \n",
       "1994                   87.931294              95.539963            75.771881   \n",
       "\n",
       "      South Asia  \n",
       "Year              \n",
       "1990   71.685458  \n",
       "1991   72.025790  \n",
       "1992   72.977601  \n",
       "1993   73.854765  \n",
       "1994   74.725030  "
      ]
     },
     "execution_count": 21,
     "metadata": {},
     "output_type": "execute_result"
    }
   ],
   "source": [
    "# Changing the title of the index\n",
    "improved_water_regions_1990_2015.rename_axis(index={'Country Name': 'Year'}, inplace =True)\n",
    "\n",
    "improved_water_regions_1990_2015.head()"
   ]
  },
  {
   "cell_type": "markdown",
   "metadata": {},
   "source": [
    "## 2. Visualize the Data"
   ]
  },
  {
   "cell_type": "markdown",
   "metadata": {},
   "source": [
    "## 2.1 Total Population by region plot"
   ]
  },
  {
   "cell_type": "code",
   "execution_count": 22,
   "metadata": {},
   "outputs": [
    {
     "data": {
      "text/plain": [
       "Text(0, 0.5, 'Total Population (Billions)')"
      ]
     },
     "execution_count": 22,
     "metadata": {},
     "output_type": "execute_result"
    },
    {
     "data": {
      "image/png": "[encoded data removed]",
      "text/plain": [
       "<Figure size 864x720 with 1 Axes>"
      ]
     },
     "metadata": {
      "needs_background": "light"
     },
     "output_type": "display_data"
    }
   ],
   "source": [
    "total_population_regions_df_1990_2015.plot(title='Population by Region over time', figsize=(12,10))\n",
    "plt.ylabel('Total Population (Billions)')"
   ]
  },
  {
   "cell_type": "markdown",
   "metadata": {},
   "source": [
    "## 2.2 Population Growth rate by region"
   ]
  },
  {
   "cell_type": "code",
   "execution_count": 23,
   "metadata": {},
   "outputs": [
    {
     "data": {
      "text/plain": [
       "Text(0, 0.5, 'Population Growth Rate (Percentage)')"
      ]
     },
     "execution_count": 23,
     "metadata": {},
     "output_type": "execute_result"
    },
    {
     "data": {
      "image/png": "[encoded data removed]",
      "text/plain": [
       "<Figure size 864x720 with 1 Axes>"
      ]
     },
     "metadata": {
      "needs_background": "light"
     },
     "output_type": "display_data"
    }
   ],
   "source": [
    "population_growth_rates_regions_df_1990_2015.plot(title='Population Growth Rate over time', figsize=(12,10))\n",
    "plt.ylabel('Population Growth Rate (Percentage)')"
   ]
  },
  {
   "cell_type": "markdown",
   "metadata": {},
   "source": [
    "## 2.3 Plotting Share of Deaths to Unsafe Water by Region"
   ]
  },
  {
   "cell_type": "code",
   "execution_count": 24,
   "metadata": {},
   "outputs": [
    {
     "data": {
      "text/plain": [
       "Text(0, 0.5, 'Percentage of Deaths by Unsafe Water')"
      ]
     },
     "execution_count": 24,
     "metadata": {},
     "output_type": "execute_result"
    },
    {
     "data": {
      "image/png": "[encoded data removed]",
      "text/plain": [
       "<Figure size 864x720 with 1 Axes>"
      ]
     },
     "metadata": {
      "needs_background": "light"
     },
     "output_type": "display_data"
    }
   ],
   "source": [
    "unsafe_water_regions_1990_2015.plot(title='Share of Deaths by Unsafe Water over time', figsize=(12,10))\n",
    "plt.ylabel('Percentage of Deaths by Unsafe Water')"
   ]
  },
  {
   "cell_type": "markdown",
   "metadata": {},
   "source": [
    "## 2.4 Plotting Share of Population with Access to Improved Drinking Water"
   ]
  },
  {
   "cell_type": "code",
   "execution_count": 25,
   "metadata": {},
   "outputs": [
    {
     "data": {
      "text/plain": [
       "Text(0, 0.5, 'Percentage of Population with Access to Improved Drinking Water')"
      ]
     },
     "execution_count": 25,
     "metadata": {},
     "output_type": "execute_result"
    },
    {
     "data": {
      "image/png": "[encoded data removed]",
      "text/plain": [
       "<Figure size 864x720 with 1 Axes>"
      ]
     },
     "metadata": {
      "needs_background": "light"
     },
     "output_type": "display_data"
    }
   ],
   "source": [
    "improved_water_regions_1990_2015.plot(title='Percentage of Population with Access to Improved Drinking Water over time', figsize=(12,10))\n",
    "plt.ylabel('Percentage of Population with Access to Improved Drinking Water')"
   ]
  },
  {
   "cell_type": "markdown",
   "metadata": {},
   "source": [
    "## 3. Exploratory Data Analysis"
   ]
  },
  {
   "cell_type": "markdown",
   "metadata": {},
   "source": [
    "Sub-Saharan Africa will be the focus of this analysis because it has the highest population growth, the highest share deaths due to unsafe water, and the lowest access to improved drinking water."
   ]
  },
  {
   "cell_type": "code",
   "execution_count": 26,
   "metadata": {},
   "outputs": [
    {
     "data": {
      "text/html": [
       "<div>\n",
       "<style scoped>\n",
       "    .dataframe tbody tr th:only-of-type {\n",
       "        vertical-align: middle;\n",
       "    }\n",
       "\n",
       "    .dataframe tbody tr th {\n",
       "        vertical-align: top;\n",
       "    }\n",
       "\n",
       "    .dataframe thead th {\n",
       "        text-align: right;\n",
       "    }\n",
       "</style>\n",
       "<table border=\"1\" class=\"dataframe\">\n",
       "  <thead>\n",
       "    <tr style=\"text-align: right;\">\n",
       "      <th></th>\n",
       "      <th>Improved Drinking Water</th>\n",
       "      <th>Deaths by Unsafe Water</th>\n",
       "      <th>Population Growth Rate</th>\n",
       "      <th>Total Population</th>\n",
       "    </tr>\n",
       "  </thead>\n",
       "  <tbody>\n",
       "    <tr>\n",
       "      <th>0</th>\n",
       "      <td>46.892503</td>\n",
       "      <td>9.21</td>\n",
       "      <td>2.834931</td>\n",
       "      <td>509451851.0</td>\n",
       "    </tr>\n",
       "    <tr>\n",
       "      <th>1</th>\n",
       "      <td>47.574676</td>\n",
       "      <td>9.25</td>\n",
       "      <td>2.802043</td>\n",
       "      <td>523726913.0</td>\n",
       "    </tr>\n",
       "    <tr>\n",
       "      <th>2</th>\n",
       "      <td>48.238131</td>\n",
       "      <td>9.03</td>\n",
       "      <td>2.772352</td>\n",
       "      <td>538246469.0</td>\n",
       "    </tr>\n",
       "    <tr>\n",
       "      <th>3</th>\n",
       "      <td>48.666323</td>\n",
       "      <td>8.85</td>\n",
       "      <td>2.744819</td>\n",
       "      <td>553020362.0</td>\n",
       "    </tr>\n",
       "    <tr>\n",
       "      <th>4</th>\n",
       "      <td>49.584787</td>\n",
       "      <td>8.22</td>\n",
       "      <td>2.721716</td>\n",
       "      <td>568072008.0</td>\n",
       "    </tr>\n",
       "  </tbody>\n",
       "</table>\n",
       "</div>"
      ],
      "text/plain": [
       "   Improved Drinking Water  Deaths by Unsafe Water  Population Growth Rate  \\\n",
       "0                46.892503                    9.21                2.834931   \n",
       "1                47.574676                    9.25                2.802043   \n",
       "2                48.238131                    9.03                2.772352   \n",
       "3                48.666323                    8.85                2.744819   \n",
       "4                49.584787                    8.22                2.721716   \n",
       "\n",
       "   Total Population  \n",
       "0       509451851.0  \n",
       "1       523726913.0  \n",
       "2       538246469.0  \n",
       "3       553020362.0  \n",
       "4       568072008.0  "
      ]
     },
     "execution_count": 26,
     "metadata": {},
     "output_type": "execute_result"
    }
   ],
   "source": [
    "# Lets start by creating a Sub-Saharan Africa data frame\n",
    "data_africa = {'Improved Drinking Water':sub_suharan_improved_water, 'Deaths by Unsafe Water':unsafe_water_regions_1990_2015['Sub-Saharan Africa'].values, 'Population Growth Rate':population_growth_rates_regions_df_1990_2015['Sub-Saharan Africa'].values , 'Total Population':total_population_regions_df_1990_2015['Sub-Saharan Africa'].values}\n",
    "sub_saharan_africa = pd.DataFrame(data_africa)\n",
    "sub_saharan_africa.head()"
   ]
  },
  {
   "cell_type": "code",
   "execution_count": 27,
   "metadata": {},
   "outputs": [
    {
     "data": {
      "text/plain": [
       "<matplotlib.axes._subplots.AxesSubplot at 0x7f738352eac8>"
      ]
     },
     "execution_count": 27,
     "metadata": {},
     "output_type": "execute_result"
    },
    {
     "data": {
      "image/png": "[encoded data removed]",
      "text/plain": [
       "<Figure size 432x288 with 1 Axes>"
      ]
     },
     "metadata": {
      "needs_background": "light"
     },
     "output_type": "display_data"
    }
   ],
   "source": [
    "sns.regplot(x='Improved Drinking Water', y='Deaths by Unsafe Water', data=sub_saharan_africa)"
   ]
  },
  {
   "cell_type": "code",
   "execution_count": 28,
   "metadata": {},
   "outputs": [
    {
     "data": {
      "text/plain": [
       "<matplotlib.axes._subplots.AxesSubplot at 0x7f73834cfef0>"
      ]
     },
     "execution_count": 28,
     "metadata": {},
     "output_type": "execute_result"
    },
    {
     "data": {
      "image/png": "[encoded data removed]",
      "text/plain": [
       "<Figure size 432x288 with 1 Axes>"
      ]
     },
     "metadata": {
      "needs_background": "light"
     },
     "output_type": "display_data"
    }
   ],
   "source": [
    "sns.regplot(x='Population Growth Rate', y='Deaths by Unsafe Water', data=sub_saharan_africa)"
   ]
  },
  {
   "cell_type": "markdown",
   "metadata": {},
   "source": [
    "We can use the Pandas method corr()  to find the feature that is most correlated with 'Deaths by Unsafe Water'."
   ]
  },
  {
   "cell_type": "code",
   "execution_count": 29,
   "metadata": {},
   "outputs": [
    {
     "data": {
      "text/html": [
       "<div>\n",
       "<style scoped>\n",
       "    .dataframe tbody tr th:only-of-type {\n",
       "        vertical-align: middle;\n",
       "    }\n",
       "\n",
       "    .dataframe tbody tr th {\n",
       "        vertical-align: top;\n",
       "    }\n",
       "\n",
       "    .dataframe thead th {\n",
       "        text-align: right;\n",
       "    }\n",
       "</style>\n",
       "<table border=\"1\" class=\"dataframe\">\n",
       "  <thead>\n",
       "    <tr style=\"text-align: right;\">\n",
       "      <th></th>\n",
       "      <th>Improved Drinking Water</th>\n",
       "      <th>Deaths by Unsafe Water</th>\n",
       "      <th>Total Population</th>\n",
       "      <th>Population Growth Rate</th>\n",
       "    </tr>\n",
       "  </thead>\n",
       "  <tbody>\n",
       "    <tr>\n",
       "      <th>Improved Drinking Water</th>\n",
       "      <td>1.000000</td>\n",
       "      <td>-0.946741</td>\n",
       "      <td>0.997519</td>\n",
       "      <td>0.091015</td>\n",
       "    </tr>\n",
       "    <tr>\n",
       "      <th>Deaths by Unsafe Water</th>\n",
       "      <td>-0.946741</td>\n",
       "      <td>1.000000</td>\n",
       "      <td>-0.926161</td>\n",
       "      <td>0.182624</td>\n",
       "    </tr>\n",
       "    <tr>\n",
       "      <th>Total Population</th>\n",
       "      <td>0.997519</td>\n",
       "      <td>-0.926161</td>\n",
       "      <td>1.000000</td>\n",
       "      <td>0.139385</td>\n",
       "    </tr>\n",
       "    <tr>\n",
       "      <th>Population Growth Rate</th>\n",
       "      <td>0.091015</td>\n",
       "      <td>0.182624</td>\n",
       "      <td>0.139385</td>\n",
       "      <td>1.000000</td>\n",
       "    </tr>\n",
       "  </tbody>\n",
       "</table>\n",
       "</div>"
      ],
      "text/plain": [
       "                         Improved Drinking Water  Deaths by Unsafe Water  \\\n",
       "Improved Drinking Water                 1.000000               -0.946741   \n",
       "Deaths by Unsafe Water                 -0.946741                1.000000   \n",
       "Total Population                        0.997519               -0.926161   \n",
       "Population Growth Rate                  0.091015                0.182624   \n",
       "\n",
       "                         Total Population  Population Growth Rate  \n",
       "Improved Drinking Water          0.997519                0.091015  \n",
       "Deaths by Unsafe Water          -0.926161                0.182624  \n",
       "Total Population                 1.000000                0.139385  \n",
       "Population Growth Rate           0.139385                1.000000  "
      ]
     },
     "execution_count": 29,
     "metadata": {},
     "output_type": "execute_result"
    }
   ],
   "source": [
    "sub_saharan_africa[['Improved Drinking Water','Deaths by Unsafe Water','Total Population','Population Growth Rate']].corr()"
   ]
  },
  {
   "cell_type": "markdown",
   "metadata": {},
   "source": [
    "<h3>Residual Plot</h3>"
   ]
  },
  {
   "cell_type": "code",
   "execution_count": 30,
   "metadata": {},
   "outputs": [
    {
     "data": {
      "text/plain": [
       "<matplotlib.axes._subplots.AxesSubplot at 0x7f73834d7208>"
      ]
     },
     "execution_count": 30,
     "metadata": {},
     "output_type": "execute_result"
    },
    {
     "data": {
      "image/png": "[encoded data removed]",
      "text/plain": [
       "<Figure size 432x288 with 1 Axes>"
      ]
     },
     "metadata": {
      "needs_background": "light"
     },
     "output_type": "display_data"
    }
   ],
   "source": [
    "sns.residplot(sub_saharan_africa['Improved Drinking Water'], sub_saharan_africa['Deaths by Unsafe Water'])"
   ]
  },
  {
   "cell_type": "code",
   "execution_count": 31,
   "metadata": {},
   "outputs": [
    {
     "data": {
      "text/plain": [
       "<matplotlib.axes._subplots.AxesSubplot at 0x7f738336ab70>"
      ]
     },
     "execution_count": 31,
     "metadata": {},
     "output_type": "execute_result"
    },
    {
     "data": {
      "image/png": "[encoded data removed]",
      "text/plain": [
       "<Figure size 432x288 with 1 Axes>"
      ]
     },
     "metadata": {
      "needs_background": "light"
     },
     "output_type": "display_data"
    }
   ],
   "source": [
    "sns.residplot(sub_saharan_africa['Total Population'], sub_saharan_africa['Deaths by Unsafe Water'])"
   ]
  },
  {
   "cell_type": "markdown",
   "metadata": {},
   "source": [
    "Because the residual is not random, this suggests that a linear model will not be the best model. This looks like a second order polynomial."
   ]
  },
  {
   "cell_type": "markdown",
   "metadata": {},
   "source": [
    "<a href=\"#item4\"></a>\n",
    "## 4. Model Development"
   ]
  },
  {
   "cell_type": "markdown",
   "metadata": {},
   "source": [
    "<h3>4.1 Linear Regression Model</h3>"
   ]
  },
  {
   "cell_type": "markdown",
   "metadata": {},
   "source": [
    "We can Fit a linear regression model using the  longitude feature 'Improved Drinking Water' and calculate the R^2."
   ]
  },
  {
   "cell_type": "code",
   "execution_count": 32,
   "metadata": {},
   "outputs": [
    {
     "name": "stdout",
     "output_type": "stream",
     "text": [
      "The R-square is:  0.8963175744135764\n"
     ]
    }
   ],
   "source": [
    "X = sub_saharan_africa[['Improved Drinking Water']]\n",
    "Y = sub_saharan_africa['Deaths by Unsafe Water']\n",
    "lm = LinearRegression()\n",
    "lm\n",
    "lm.fit(X,Y)\n",
    "\n",
    "# Find the R^2\n",
    "print('The R-square is: ', lm.score(X, Y))"
   ]
  },
  {
   "cell_type": "code",
   "execution_count": 33,
   "metadata": {},
   "outputs": [
    {
     "name": "stdout",
     "output_type": "stream",
     "text": [
      "[-0.14710209] 15.735022972423712\n"
     ]
    }
   ],
   "source": [
    "# coeffs and intercept\n",
    "print(lm.coef_, lm.intercept_)"
   ]
  },
  {
   "cell_type": "markdown",
   "metadata": {},
   "source": [
    "We can fit a linear regression model to predict the 'Deaths by Unsafe Water' using the feature 'Improved Drinking Water' then calculate the R^2."
   ]
  },
  {
   "cell_type": "code",
   "execution_count": 34,
   "metadata": {},
   "outputs": [
    {
     "name": "stdout",
     "output_type": "stream",
     "text": [
      "The mean square error of price and predicted value is:  0.09726613990741145\n"
     ]
    }
   ],
   "source": [
    "a = sub_saharan_africa[['Improved Drinking Water']]\n",
    "b = sub_saharan_africa['Deaths by Unsafe Water']\n",
    "lm.fit(a,b)\n",
    "yhat=lm.predict(a)\n",
    "lm.score(a,b)\n",
    "\n",
    "# we compare the predicted results with the actual results\n",
    "mse = mean_squared_error(sub_saharan_africa['Deaths by Unsafe Water'], yhat)\n",
    "print('The mean square error of price and predicted value is: ', mse)"
   ]
  },
  {
   "cell_type": "markdown",
   "metadata": {},
   "source": [
    "<h3>4.2 Multi-linear Regression Model</h3>"
   ]
  },
  {
   "cell_type": "markdown",
   "metadata": {},
   "source": [
    "We can fit a linear regression model to predict the 'Deaths by Unsafe Water' using the list of all features."
   ]
  },
  {
   "cell_type": "code",
   "execution_count": 35,
   "metadata": {},
   "outputs": [
    {
     "name": "stdout",
     "output_type": "stream",
     "text": [
      "The R-square is:  0.979113804145194\n"
     ]
    }
   ],
   "source": [
    "features = ['Improved Drinking Water', 'Population Growth Rate', 'Total Population']\n",
    "z=sub_saharan_africa[features]\n",
    "b = sub_saharan_africa['Deaths by Unsafe Water']\n",
    "lm.fit(z,b)\n",
    "yhat_1=lm.predict(z)\n",
    "\n",
    "# Find the R^2\n",
    "print('The R-square is: ', lm.score(z,b))"
   ]
  },
  {
   "cell_type": "code",
   "execution_count": 36,
   "metadata": {},
   "outputs": [
    {
     "name": "stdout",
     "output_type": "stream",
     "text": [
      "[-4.54196141e-01  3.32018197e+00  1.31460109e-08] 14.590036867162137\n"
     ]
    }
   ],
   "source": [
    "# coeffs and intercept\n",
    "print(lm.coef_, lm.intercept_)"
   ]
  },
  {
   "cell_type": "markdown",
   "metadata": {},
   "source": [
    "Result of Multi-regression model: 'Deaths by Unsafe Water' = 14.59 + (-0.45)*'Improved Drinking Water' + (3.32)*'Population Growth Rate' + (1.31)*'Total Population'"
   ]
  },
  {
   "cell_type": "code",
   "execution_count": 37,
   "metadata": {},
   "outputs": [
    {
     "name": "stdout",
     "output_type": "stream",
     "text": [
      "The mean square error of price and predicted value using multifit is:  0.019593674016179365\n"
     ]
    }
   ],
   "source": [
    "print('The mean square error of price and predicted value using multifit is: ', mean_squared_error(b, yhat_1))"
   ]
  },
  {
   "cell_type": "markdown",
   "metadata": {},
   "source": [
    "Model Evaluation using Visualization"
   ]
  },
  {
   "cell_type": "code",
   "execution_count": 38,
   "metadata": {},
   "outputs": [
    {
     "data": {
      "text/plain": [
       "Text(0, 0.5, 'Proportion of Deaths by Unsafe Water')"
      ]
     },
     "execution_count": 38,
     "metadata": {},
     "output_type": "execute_result"
    },
    {
     "data": {
      "image/png": "[encoded data removed]",
      "text/plain": [
       "<Figure size 864x720 with 1 Axes>"
      ]
     },
     "metadata": {
      "needs_background": "light"
     },
     "output_type": "display_data"
    }
   ],
   "source": [
    "plt.figure(figsize=(12, 10))\n",
    "\n",
    "ax1 = sns.distplot(sub_saharan_africa['Deaths by Unsafe Water'], hist=False, color=\"r\", label=\"Actual Value\")\n",
    "sns.distplot(yhat_1, hist=False, color=\"b\", label=\"Fitted Values\" , ax=ax1)\n",
    "\n",
    "\n",
    "plt.title('Actual vs Fitted Values for Deaths by Unsafe Water')\n",
    "plt.xlabel('Deaths by Unsafe Water')\n",
    "plt.ylabel('Proportion of Deaths by Unsafe Water')"
   ]
  },
  {
   "cell_type": "markdown",
   "metadata": {},
   "source": [
    "<h3>4.3 Polynomial Regression Model</h3>"
   ]
  },
  {
   "cell_type": "markdown",
   "metadata": {},
   "source": [
    "<p>We will use the following function to plot the data:</p>"
   ]
  },
  {
   "cell_type": "code",
   "execution_count": 39,
   "metadata": {},
   "outputs": [],
   "source": [
    "def PlotPolly(model, independent_variable, dependent_variabble, Name):\n",
    "    x_new = np.linspace(45, 70, 100)\n",
    "    y_new = model(x_new)\n",
    "    \n",
    "    plt.figure(figsize=(12, 10))\n",
    "\n",
    "    plt.plot(independent_variable, dependent_variabble, '.', x_new, y_new, '-')\n",
    "    plt.title('Polynomial Fit with Matplotlib for Deaths by Unsafe Water')\n",
    "    ax = plt.gca()\n",
    "    ax.set_facecolor((0.898, 0.898, 0.898))\n",
    "    fig = plt.gcf()\n",
    "    plt.xlabel(Name)\n",
    "    plt.ylabel('Deaths by Unsafe Water')\n",
    "\n",
    "    plt.show()\n",
    "    plt.close()"
   ]
  },
  {
   "cell_type": "markdown",
   "metadata": {},
   "source": [
    "Let's fit the polynomial using the function <b>polyfit</b>, then use the function <b>poly1d</b> to display the polynomial function."
   ]
  },
  {
   "cell_type": "code",
   "execution_count": 40,
   "metadata": {},
   "outputs": [
    {
     "name": "stdout",
     "output_type": "stream",
     "text": [
      "           5             4           3         2\n",
      "1.877e-06 x - 0.0006509 x + 0.08677 x - 5.606 x + 176.3 x - 2158\n"
     ]
    }
   ],
   "source": [
    "# Here we use a polynomial of the 2nd order (cubic) \n",
    "x = sub_saharan_africa['Improved Drinking Water']\n",
    "y = sub_saharan_africa['Deaths by Unsafe Water']\n",
    "f = np.polyfit(x, y, 5)\n",
    "p = np.poly1d(f)\n",
    "print(p)"
   ]
  },
  {
   "cell_type": "code",
   "execution_count": 41,
   "metadata": {},
   "outputs": [
    {
     "name": "stdout",
     "output_type": "stream",
     "text": [
      "The R-square value is:  0.9831753767319115\n"
     ]
    }
   ],
   "source": [
    "r_squared = r2_score(y, p(x))\n",
    "print('The R-square value is: ', r_squared)"
   ]
  },
  {
   "cell_type": "code",
   "execution_count": 42,
   "metadata": {},
   "outputs": [
    {
     "name": "stdout",
     "output_type": "stream",
     "text": [
      "The mean square error of price and predicted value using polyfit is:  0.015783447883550218\n"
     ]
    }
   ],
   "source": [
    "print('The mean square error of price and predicted value using polyfit is: ', mean_squared_error(y, p(x)))"
   ]
  },
  {
   "cell_type": "markdown",
   "metadata": {},
   "source": [
    "<h3>Polynomial Fit PLot</h3>"
   ]
  },
  {
   "cell_type": "code",
   "execution_count": 43,
   "metadata": {},
   "outputs": [
    {
     "data": {
      "image/png": "[encoded data removed]",
      "text/plain": [
       "<Figure size 864x720 with 1 Axes>"
      ]
     },
     "metadata": {
      "needs_background": "light"
     },
     "output_type": "display_data"
    }
   ],
   "source": [
    "PlotPolly(p, x, y, 'Percentage of Population with Access to Improved Drinking Water')"
   ]
  },
  {
   "cell_type": "markdown",
   "metadata": {},
   "source": [
    "<h3>4.4 Non-Linear Regression</h3>"
   ]
  },
  {
   "cell_type": "code",
   "execution_count": 44,
   "metadata": {},
   "outputs": [],
   "source": [
    "def sigmoid(x, Beta_1, Beta_2):\n",
    "     y = 1 / (1 + np.exp(-Beta_1*(x-Beta_2)))\n",
    "     return y"
   ]
  },
  {
   "cell_type": "code",
   "execution_count": 45,
   "metadata": {},
   "outputs": [],
   "source": [
    "x_data = sub_saharan_africa['Improved Drinking Water']\n",
    "y_data = sub_saharan_africa['Deaths by Unsafe Water']"
   ]
  },
  {
   "cell_type": "code",
   "execution_count": 46,
   "metadata": {},
   "outputs": [],
   "source": [
    "# Lets normalize our data\n",
    "xdata =x_data/max(x_data)\n",
    "ydata =y_data/max(y_data)"
   ]
  },
  {
   "cell_type": "code",
   "execution_count": 47,
   "metadata": {},
   "outputs": [
    {
     "name": "stdout",
     "output_type": "stream",
     "text": [
      " beta_1 = -6.049261, beta_2 = 1.079241\n"
     ]
    }
   ],
   "source": [
    "popt, pcov = curve_fit(sigmoid, xdata, ydata)\n",
    "#print the final parameters\n",
    "print(\" beta_1 = %f, beta_2 = %f\" % (popt[0], popt[1]))"
   ]
  },
  {
   "cell_type": "code",
   "execution_count": 48,
   "metadata": {},
   "outputs": [
    {
     "data": {
      "image/png": "[encoded data removed]",
      "text/plain": [
       "<Figure size 864x720 with 1 Axes>"
      ]
     },
     "metadata": {
      "needs_background": "light"
     },
     "output_type": "display_data"
    }
   ],
   "source": [
    "x = np.linspace(45, 70, 26)\n",
    "x = x/max(x)\n",
    "plt.figure(figsize=(12,10))\n",
    "y = sigmoid(x, *popt)\n",
    "plt.plot(xdata, ydata, 'ro', label='data')\n",
    "plt.plot(x,y, linewidth=3.0, label='fit')\n",
    "plt.legend(loc='best')\n",
    "plt.ylabel('Deaths by Unsafe Water')\n",
    "plt.xlabel('Improved Drinking Water')\n",
    "plt.show()"
   ]
  },
  {
   "cell_type": "code",
   "execution_count": 49,
   "metadata": {},
   "outputs": [
    {
     "name": "stdout",
     "output_type": "stream",
     "text": [
      "Mean absolute error: 0.06\n",
      "Residual sum of squares (MSE): 0.00\n",
      "R2-score: -0.36\n"
     ]
    }
   ],
   "source": [
    "# split data into train/test\n",
    "msk = np.random.rand(len(sub_saharan_africa)) > 0.2\n",
    "train_x = xdata[msk]\n",
    "test_x = xdata[~msk]\n",
    "train_y = ydata[msk]\n",
    "test_y = ydata[~msk]\n",
    "\n",
    "# build the model using train set\n",
    "popt, pcov = curve_fit(sigmoid, train_x, train_y)\n",
    "\n",
    "# predict using test set\n",
    "y_hat = sigmoid(test_x, *popt)\n",
    "\n",
    "# evaluation\n",
    "print(\"Mean absolute error: %.2f\" % np.mean(np.absolute(y_hat - test_y)))\n",
    "print(\"Residual sum of squares (MSE): %.2f\" % np.mean((y_hat - test_y) ** 2))\n",
    "from sklearn.metrics import r2_score\n",
    "print(\"R2-score: %.2f\" % r2_score(y_hat , test_y) )"
   ]
  },
  {
   "cell_type": "markdown",
   "metadata": {},
   "source": [
    "<h3>4.5 Measures for In-Sample Evaluation</h3>\n",
    "\n",
    "<p>When evaluating our models, not only do we want to visualize the results, but we also want a quantitative measure to determine how accurate the model is.</p>\n",
    "\n",
    "<p>Two very important measures that are often used in Statistics to determine the accuracy of a model are:</p>\n",
    "<ul>\n",
    "    <li><b>R^2 / R-squared</b></li>\n",
    "    <li><b>Mean Squared Error (MSE)</b></li>\n",
    "</ul>\n",
    "\n",
    "<b>R-squared</b>\n",
    "\n",
    "<p>R squared, also known as the coefficient of determination, is a measure to indicate how close the data is to the fitted regression line.</p>\n",
    "    \n",
    "<p>The value of the R-squared is the percentage of variation of the response variable (y) that is explained by a linear model.</p>\n",
    "\n",
    "\n",
    "<b>Mean Squared Error (MSE)</b>\n",
    "\n",
    "<p>The Mean Squared Error measures the average of the squares of errors, that is, the difference between actual value (y) and the estimated value (ŷ).</p>"
   ]
  },
  {
   "cell_type": "markdown",
   "metadata": {},
   "source": [
    "<h3>Model 1: Simple Linear Regression</h3>"
   ]
  },
  {
   "cell_type": "markdown",
   "metadata": {},
   "source": [
    "<p>The R-square is:  0.8963175744135764</p>\n",
    "<p>The mean square error of price and predicted value is:  0.09726613990741145</p>"
   ]
  },
  {
   "cell_type": "markdown",
   "metadata": {},
   "source": [
    "<h3>Model 2: Multiple Linear Regression</h3>"
   ]
  },
  {
   "cell_type": "markdown",
   "metadata": {},
   "source": [
    "<p>The R-square is:  0.979113804145194</p>\n",
    "<p>The mean square error of price and predicted value using multifit is:  0.019593674016179393</p>"
   ]
  },
  {
   "cell_type": "markdown",
   "metadata": {},
   "source": [
    "<h3>Model 3: Polynomial Fit</h3>"
   ]
  },
  {
   "cell_type": "markdown",
   "metadata": {},
   "source": [
    "<p>The R-square value is:  0.9831753767319534</p>\n",
    "<p>The mean square error of price and predicted value using polyfit is:  0.015783447883510847</p>"
   ]
  },
  {
   "cell_type": "markdown",
   "metadata": {},
   "source": [
    "<h3>Model 4: Non-Linear Regression</h3>"
   ]
  },
  {
   "cell_type": "markdown",
   "metadata": {},
   "source": [
    "<p>The R-square value is:  0.79</p>\n",
    "<p>The mean square error of price and predicted value using polyfit is:  0.0</p>"
   ]
  },
  {
   "cell_type": "markdown",
   "metadata": {},
   "source": [
    "## 5. Model Training"
   ]
  },
  {
   "cell_type": "markdown",
   "metadata": {},
   "source": [
    "<h3>5.1 Training and Testing</h3>"
   ]
  },
  {
   "cell_type": "code",
   "execution_count": 50,
   "metadata": {},
   "outputs": [
    {
     "name": "stdout",
     "output_type": "stream",
     "text": [
      "number of test samples : 4\n",
      "number of training samples: 22\n"
     ]
    }
   ],
   "source": [
    "features = ['Improved Drinking Water', 'Population Growth Rate', 'Total Population']   \n",
    "x_independent = sub_saharan_africa[features]\n",
    "y_dependent = sub_saharan_africa['Deaths by Unsafe Water']\n",
    "\n",
    "x_train, x_test, y_train, y_test = train_test_split(x_independent, y_dependent, test_size=0.15, random_state=1)\n",
    "\n",
    "\n",
    "print(\"number of test samples :\", x_test.shape[0])\n",
    "print(\"number of training samples:\",x_train.shape[0])"
   ]
  },
  {
   "cell_type": "markdown",
   "metadata": {},
   "source": [
    "<h3>5.2 Ridge Regression</h3>"
   ]
  },
  {
   "cell_type": "code",
   "execution_count": 51,
   "metadata": {},
   "outputs": [
    {
     "name": "stderr",
     "output_type": "stream",
     "text": [
      "/home/jupyterlab/conda/envs/python/lib/python3.6/site-packages/sklearn/linear_model/ridge.py:125: LinAlgWarning: Ill-conditioned matrix (rcond=2.38805e-19): result may not be accurate.\n",
      "  overwrite_a=True).T\n"
     ]
    },
    {
     "data": {
      "text/plain": [
       "0.9739340549785299"
      ]
     },
     "execution_count": 51,
     "metadata": {},
     "output_type": "execute_result"
    }
   ],
   "source": [
    "RidgeModel=Ridge(alpha=0.1)\n",
    "RidgeModel.fit(x_train,y_train)\n",
    "RidgeModel.score(x_test,y_test)"
   ]
  },
  {
   "cell_type": "code",
   "execution_count": 52,
   "metadata": {},
   "outputs": [
    {
     "name": "stderr",
     "output_type": "stream",
     "text": [
      "/home/jupyterlab/conda/envs/python/lib/python3.6/site-packages/sklearn/linear_model/ridge.py:125: LinAlgWarning: Ill-conditioned matrix (rcond=1.99912e-20): result may not be accurate.\n",
      "  overwrite_a=True).T\n"
     ]
    },
    {
     "data": {
      "text/plain": [
       "0.9861308024986779"
      ]
     },
     "execution_count": 52,
     "metadata": {},
     "output_type": "execute_result"
    }
   ],
   "source": [
    "pr=PolynomialFeatures(degree=1)\n",
    "x_train_pr=pr.fit_transform(x_train)\n",
    "x_test_pr=pr.fit_transform(x_test)\n",
    "lm.fit(x_train_pr,y_train)\n",
    "lm.fit(x_test_pr,y_test)\n",
    "\n",
    "RidgeModel=Ridge(alpha=0.01)\n",
    "RidgeModel.fit(x_train_pr,y_train)\n",
    "RidgeModel.score(x_test_pr,y_test)"
   ]
  },
  {
   "cell_type": "markdown",
   "metadata": {},
   "source": [
    "<h3>5.3 Polynomial Evaluation</h3>"
   ]
  },
  {
   "cell_type": "code",
   "execution_count": 53,
   "metadata": {},
   "outputs": [
    {
     "name": "stdout",
     "output_type": "stream",
     "text": [
      "Mean absolute error: 0.00\n",
      "Residual sum of squares (MSE): 0.00\n",
      "R2-score: 1.00\n"
     ]
    }
   ],
   "source": [
    "test_x_poly = pr.fit_transform(x_test)\n",
    "y_test_ = lm.predict(test_x_poly)\n",
    "\n",
    "print(\"Mean absolute error: %.2f\" % np.mean(np.absolute(y_test_ - y_test)))\n",
    "print(\"Residual sum of squares (MSE): %.2f\" % np.mean((y_test_ - y_test) ** 2))\n",
    "print(\"R2-score: %.2f\" % r2_score(y_test_ , y_test) )"
   ]
  },
  {
   "cell_type": "code",
   "execution_count": null,
   "metadata": {},
   "outputs": [],
   "source": []
  },
  {
   "cell_type": "code",
   "execution_count": null,
   "metadata": {},
   "outputs": [],
   "source": []
  },
  {
   "cell_type": "code",
   "execution_count": null,
   "metadata": {},
   "outputs": [],
   "source": []
  },
  {
   "cell_type": "code",
   "execution_count": null,
   "metadata": {},
   "outputs": [],
   "source": []
  },
  {
   "cell_type": "code",
   "execution_count": null,
   "metadata": {},
   "outputs": [],
   "source": []
  }
 ],
 "metadata": {
  "kernelspec": {
   "display_name": "Python",
   "language": "python",
   "name": "conda-env-python-py"
  },
  "language_info": {
   "codemirror_mode": {
    "name": "ipython",
    "version": 3
   },
   "file_extension": ".py",
   "mimetype": "text/x-python",
   "name": "python",
   "nbconvert_exporter": "python",
   "pygments_lexer": "ipython3",
   "version": "3.6.7"
  }
 },
 "nbformat": 4,
 "nbformat_minor": 4
}
